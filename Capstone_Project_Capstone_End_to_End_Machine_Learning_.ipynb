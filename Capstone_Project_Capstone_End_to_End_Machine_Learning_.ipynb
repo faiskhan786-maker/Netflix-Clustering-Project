{
  "nbformat": 4,
  "nbformat_minor": 0,
  "metadata": {
    "colab": {
      "provenance": [],
      "collapsed_sections": [
        "mDgbUHAGgjLW",
        "tEA2Xm5dHt1r",
        "fF3858GYyt-u",
        "4_0_7-oCpUZd",
        "hwyV_J3ipUZe",
        "3yB-zSqbpUZe",
        "dEUvejAfpUZe",
        "Fd15vwWVpUZf",
        "bn_IUdTipZyH",
        "49K5P_iCpZyH",
        "Nff-vKELpZyI",
        "kLW572S8pZyI",
        "dWbDXHzopZyI",
        "578E2V7j08f6",
        "7wuGOrhz0itI",
        "89xtkJwZ18nB",
        "67NQN5KX2AMe",
        "GMQiZwjn3iu7",
        "WVIkgGqN3qsr",
        "XkPnILGE3zoT",
        "Hlsf0x5436Go",
        "mT9DMSJo4nBL",
        "c49ITxTc407N",
        "OeJFEK0N496M",
        "9ExmJH0g5HBk",
        "cJNqERVU536h",
        "k5UmGsbsOxih",
        "T0VqWOYE6DLQ",
        "qBMux9mC6MCf",
        "2DejudWSA-a0",
        "pEMng2IbBLp7",
        "rAdphbQ9Bhjc",
        "yiiVWRdJDDil",
        "T5CmagL3EC8N",
        "BhH2vgX9EjGr",
        "qjKvONjwE8ra",
        "P1XJ9OREExlT",
        "VFOzZv6IFROw",
        "TIqpNgepFxVj",
        "-Kee-DAl2viO",
        "gIfDvo9L0UH2"
      ]
    },
    "kernelspec": {
      "name": "python3",
      "display_name": "Python 3"
    },
    "language_info": {
      "name": "python"
    }
  },
  "cells": [
    {
      "cell_type": "markdown",
      "source": [
        "# **Project Name**    - Netflix Movies and TV Shows Clustering\n",
        "\n"
      ],
      "metadata": {
        "id": "vncDsAP0Gaoa"
      }
    },
    {
      "cell_type": "markdown",
      "source": [
        "##### **Project Type**    - Unsupervised ML\n",
        "##### **Contribution**    - Individual"
      ],
      "metadata": {
        "id": "beRrZCGUAJYm"
      }
    },
    {
      "cell_type": "markdown",
      "source": [
        "# **Project Summary** -Netflix Movies & TV Shows Clustering"
      ],
      "metadata": {
        "id": "FJNUwmbgGyua"
      }
    },
    {
      "cell_type": "markdown",
      "source": [
        "This dataset consists of tv shows and movies available on Netflix as of 2019. In 2018, they released an interesting report which shows that the number of TV shows on Netflix has nearly tripled since 2010. The streaming services number of movies has decreased by more than 2,000 titles since 2010, while its number of TV shows has nearly tripled. It will be interesting to explore what all other insights can be obtained from the same dataset.\n",
        "\n",
        "Netflix operates globally, constantly adjusting its content strategy. Insights from this dataset can help to identify content trends by region, genre, and Type, understand, and analyze Netflix's evolving focus (movies vs. TV), enabling better content recommendations and strategic acquisitions.\n",
        "\n",
        "In this Project I analyzed Netflix 2019 catalog, confirmed the strategic shift to TV shows, and clustered content into meaningful groups using unsupervised ML. The project demonstrates practical applications in recommendation engines, business strategy, and content acquisition."
      ],
      "metadata": {
        "id": "F6v_1wHtG2nS"
      }
    },
    {
      "cell_type": "markdown",
      "source": [
        "# **GitHub Link -**"
      ],
      "metadata": {
        "id": "w6K7xa23Elo4"
      }
    },
    {
      "cell_type": "markdown",
      "source": [
        "Provide your GitHub Link here."
      ],
      "metadata": {
        "id": "h1o69JH3Eqqn"
      }
    },
    {
      "cell_type": "markdown",
      "source": [
        "# **Problem Statement**\n"
      ],
      "metadata": {
        "id": "yQaldy8SH6Dl"
      }
    },
    {
      "cell_type": "markdown",
      "source": [
        "Netflix’s catalog has shifted dramatically over the years, with TV shows nearly tripling since 2010 while movies decreased. The project aims to analyze the Netflix dataset to:\n",
        "\n",
        "1. Exploratory Data Analysis.\n",
        "2. Understanding what type content is available in different countries.\n",
        "3. If Netflix has been increasingly focusing on TV rather than movies in recent years.\n",
        "4. Clustering similar content by matching text-based features."
      ],
      "metadata": {
        "id": "DpeJGUA3kjGy"
      }
    },
    {
      "cell_type": "markdown",
      "source": [
        "# **General Guidelines** : -  "
      ],
      "metadata": {
        "id": "mDgbUHAGgjLW"
      }
    },
    {
      "cell_type": "markdown",
      "source": [
        "1.   Well-structured, formatted, and commented code is required.\n",
        "2.   Exception Handling, Production Grade Code & Deployment Ready Code will be a plus. Those students will be awarded some additional credits.\n",
        "     \n",
        "     The additional credits will have advantages over other students during Star Student selection.\n",
        "       \n",
        "             [ Note: - Deployment Ready Code is defined as, the whole .ipynb notebook should be executable in one go\n",
        "                       without a single error logged. ]\n",
        "\n",
        "3.   Each and every logic should have proper comments.\n",
        "4. You may add as many number of charts you want. Make Sure for each and every chart the following format should be answered.\n",
        "        \n",
        "\n",
        "```\n",
        "# Chart visualization code\n",
        "```\n",
        "            \n",
        "\n",
        "*   Why did you pick the specific chart?\n",
        "*   What is/are the insight(s) found from the chart?\n",
        "* Will the gained insights help creating a positive business impact?\n",
        "Are there any insights that lead to negative growth? Justify with specific reason.\n",
        "\n",
        "5. You have to create at least 15 logical & meaningful charts having important insights.\n",
        "\n",
        "\n",
        "[ Hints : - Do the Vizualization in  a structured way while following \"UBM\" Rule.\n",
        "\n",
        "U - Univariate Analysis,\n",
        "\n",
        "B - Bivariate Analysis (Numerical - Categorical, Numerical - Numerical, Categorical - Categorical)\n",
        "\n",
        "M - Multivariate Analysis\n",
        " ]\n",
        "\n",
        "\n",
        "\n",
        "\n",
        "\n",
        "6. You may add more ml algorithms for model creation. Make sure for each and every algorithm, the following format should be answered.\n",
        "\n",
        "\n",
        "*   Explain the ML Model used and it's performance using Evaluation metric Score Chart.\n",
        "\n",
        "\n",
        "*   Cross- Validation & Hyperparameter Tuning\n",
        "\n",
        "*   Have you seen any improvement? Note down the improvement with updates Evaluation metric Score Chart.\n",
        "\n",
        "*   Explain each evaluation metric's indication towards business and the business impact pf the ML model used.\n",
        "\n",
        "\n",
        "\n",
        "\n",
        "\n",
        "\n",
        "\n",
        "\n",
        "\n",
        "\n",
        "\n",
        "\n",
        "\n",
        "\n",
        "\n",
        "\n",
        "\n",
        "\n"
      ],
      "metadata": {
        "id": "ZrxVaUj-hHfC"
      }
    },
    {
      "cell_type": "markdown",
      "source": [
        "# ***Let's Begin !***"
      ],
      "metadata": {
        "id": "O_i_v8NEhb9l"
      }
    },
    {
      "cell_type": "markdown",
      "source": [
        "## ***1. Know Your Data***"
      ],
      "metadata": {
        "id": "HhfV-JJviCcP"
      }
    },
    {
      "cell_type": "markdown",
      "source": [
        "### Import Libraries"
      ],
      "metadata": {
        "id": "Y3lxredqlCYt"
      }
    },
    {
      "cell_type": "code",
      "source": [
        "# Import Libraries\n",
        "import pandas as pd\n",
        "import numpy as np\n",
        "from sklearn.feature_extraction.text import TfidfVectorizer\n",
        "from sklearn.preprocessing import MultiLabelBinarizer, StandardScaler\n",
        "from sklearn.decomposition import TruncatedSVD\n",
        "from sklearn.cluster import KMeans, AgglomerativeClustering\n",
        "from sklearn.metrics import silhouette_score\n",
        "import matplotlib.pyplot as plt\n",
        "from sklearn.feature_extraction.text import ENGLISH_STOP_WORDS\n",
        "from scipy.sparse import hstack, csr_matrix\n",
        "from sklearn.utils import resample"
      ],
      "metadata": {
        "id": "M8Vqi-pPk-HR"
      },
      "execution_count": 1,
      "outputs": []
    },
    {
      "cell_type": "markdown",
      "source": [
        "### Dataset Loading"
      ],
      "metadata": {
        "id": "3RnN4peoiCZX"
      }
    },
    {
      "cell_type": "code",
      "source": [
        "from google.colab import drive\n",
        "drive.mount('/content/drive')"
      ],
      "metadata": {
        "id": "4CkvbW_SlZ_R",
        "colab": {
          "base_uri": "https://localhost:8080/"
        },
        "outputId": "35dc6140-8e0f-452f-af7f-a0d03ab84613"
      },
      "execution_count": 2,
      "outputs": [
        {
          "output_type": "stream",
          "name": "stdout",
          "text": [
            "Mounted at /content/drive\n"
          ]
        }
      ]
    },
    {
      "cell_type": "code",
      "source": [
        "# Load Dataset\n",
        "df= pd.read_csv(\"/content/drive/MyDrive/ML Project and Case Study/NETFLIX MOVIES AND TV SHOWS CLUSTERING.csv\")"
      ],
      "metadata": {
        "id": "dZq0HyA1Ls5g"
      },
      "execution_count": 3,
      "outputs": []
    },
    {
      "cell_type": "code",
      "source": [
        "print('\\nDataset shape:', df.shape)\n",
        "print(df.head())"
      ],
      "metadata": {
        "colab": {
          "base_uri": "https://localhost:8080/"
        },
        "collapsed": true,
        "id": "_TLq9CiuL8wP",
        "outputId": "6016c58c-597c-4164-ab27-08a01313586f"
      },
      "execution_count": 4,
      "outputs": [
        {
          "output_type": "stream",
          "name": "stdout",
          "text": [
            "\n",
            "Dataset shape: (7787, 12)\n",
            "  show_id     type  title           director  \\\n",
            "0      s1  TV Show     3%                NaN   \n",
            "1      s2    Movie   7:19  Jorge Michel Grau   \n",
            "2      s3    Movie  23:59       Gilbert Chan   \n",
            "3      s4    Movie      9        Shane Acker   \n",
            "4      s5    Movie     21     Robert Luketic   \n",
            "\n",
            "                                                cast        country  \\\n",
            "0  João Miguel, Bianca Comparato, Michel Gomes, R...         Brazil   \n",
            "1  Demián Bichir, Héctor Bonilla, Oscar Serrano, ...         Mexico   \n",
            "2  Tedd Chan, Stella Chung, Henley Hii, Lawrence ...      Singapore   \n",
            "3  Elijah Wood, John C. Reilly, Jennifer Connelly...  United States   \n",
            "4  Jim Sturgess, Kevin Spacey, Kate Bosworth, Aar...  United States   \n",
            "\n",
            "          date_added  release_year rating   duration  \\\n",
            "0    August 14, 2020          2020  TV-MA  4 Seasons   \n",
            "1  December 23, 2016          2016  TV-MA     93 min   \n",
            "2  December 20, 2018          2011      R     78 min   \n",
            "3  November 16, 2017          2009  PG-13     80 min   \n",
            "4    January 1, 2020          2008  PG-13    123 min   \n",
            "\n",
            "                                           listed_in  \\\n",
            "0  International TV Shows, TV Dramas, TV Sci-Fi &...   \n",
            "1                       Dramas, International Movies   \n",
            "2                Horror Movies, International Movies   \n",
            "3  Action & Adventure, Independent Movies, Sci-Fi...   \n",
            "4                                             Dramas   \n",
            "\n",
            "                                         description  \n",
            "0  In a future where the elite inhabit an island ...  \n",
            "1  After a devastating earthquake hits Mexico Cit...  \n",
            "2  When an army recruit is found dead, his fellow...  \n",
            "3  In a postapocalyptic world, rag-doll robots hi...  \n",
            "4  A brilliant group of students become card-coun...  \n"
          ]
        }
      ]
    },
    {
      "cell_type": "markdown",
      "source": [
        "### Dataset First View"
      ],
      "metadata": {
        "id": "x71ZqKXriCWQ"
      }
    },
    {
      "cell_type": "code",
      "source": [
        "# Dataset First Look\n",
        "print(\"First 5 rows:\")\n",
        "print(df.head())"
      ],
      "metadata": {
        "id": "LWNFOSvLl09H",
        "colab": {
          "base_uri": "https://localhost:8080/"
        },
        "collapsed": true,
        "outputId": "8d4dbf0d-0958-4ca0-bd19-3b9c9279125f"
      },
      "execution_count": 5,
      "outputs": [
        {
          "output_type": "stream",
          "name": "stdout",
          "text": [
            "First 5 rows:\n",
            "  show_id     type  title           director  \\\n",
            "0      s1  TV Show     3%                NaN   \n",
            "1      s2    Movie   7:19  Jorge Michel Grau   \n",
            "2      s3    Movie  23:59       Gilbert Chan   \n",
            "3      s4    Movie      9        Shane Acker   \n",
            "4      s5    Movie     21     Robert Luketic   \n",
            "\n",
            "                                                cast        country  \\\n",
            "0  João Miguel, Bianca Comparato, Michel Gomes, R...         Brazil   \n",
            "1  Demián Bichir, Héctor Bonilla, Oscar Serrano, ...         Mexico   \n",
            "2  Tedd Chan, Stella Chung, Henley Hii, Lawrence ...      Singapore   \n",
            "3  Elijah Wood, John C. Reilly, Jennifer Connelly...  United States   \n",
            "4  Jim Sturgess, Kevin Spacey, Kate Bosworth, Aar...  United States   \n",
            "\n",
            "          date_added  release_year rating   duration  \\\n",
            "0    August 14, 2020          2020  TV-MA  4 Seasons   \n",
            "1  December 23, 2016          2016  TV-MA     93 min   \n",
            "2  December 20, 2018          2011      R     78 min   \n",
            "3  November 16, 2017          2009  PG-13     80 min   \n",
            "4    January 1, 2020          2008  PG-13    123 min   \n",
            "\n",
            "                                           listed_in  \\\n",
            "0  International TV Shows, TV Dramas, TV Sci-Fi &...   \n",
            "1                       Dramas, International Movies   \n",
            "2                Horror Movies, International Movies   \n",
            "3  Action & Adventure, Independent Movies, Sci-Fi...   \n",
            "4                                             Dramas   \n",
            "\n",
            "                                         description  \n",
            "0  In a future where the elite inhabit an island ...  \n",
            "1  After a devastating earthquake hits Mexico Cit...  \n",
            "2  When an army recruit is found dead, his fellow...  \n",
            "3  In a postapocalyptic world, rag-doll robots hi...  \n",
            "4  A brilliant group of students become card-coun...  \n"
          ]
        }
      ]
    },
    {
      "cell_type": "markdown",
      "source": [
        "### Dataset Rows & Columns count"
      ],
      "metadata": {
        "id": "7hBIi_osiCS2"
      }
    },
    {
      "cell_type": "code",
      "source": [
        "# Dataset Rows & Columns count\n",
        "rows, columns = df.shape\n",
        "\n",
        "print(f\"Number of rows: {rows}\")\n",
        "print(f\"Number of columns: {columns}\")"
      ],
      "metadata": {
        "id": "Kllu7SJgmLij",
        "colab": {
          "base_uri": "https://localhost:8080/"
        },
        "outputId": "00057f19-13fc-4480-a547-2711c185683f"
      },
      "execution_count": 6,
      "outputs": [
        {
          "output_type": "stream",
          "name": "stdout",
          "text": [
            "Number of rows: 7787\n",
            "Number of columns: 12\n"
          ]
        }
      ]
    },
    {
      "cell_type": "markdown",
      "source": [
        "### Dataset Information"
      ],
      "metadata": {
        "id": "JlHwYmJAmNHm"
      }
    },
    {
      "cell_type": "code",
      "source": [
        "# Dataset Info\n",
        "print(\"Dataset Info:\")\n",
        "df.info()"
      ],
      "metadata": {
        "id": "e9hRXRi6meOf",
        "colab": {
          "base_uri": "https://localhost:8080/"
        },
        "outputId": "7d1cbc83-6609-41db-e636-87b544d501ac"
      },
      "execution_count": 7,
      "outputs": [
        {
          "output_type": "stream",
          "name": "stdout",
          "text": [
            "Dataset Info:\n",
            "<class 'pandas.core.frame.DataFrame'>\n",
            "RangeIndex: 7787 entries, 0 to 7786\n",
            "Data columns (total 12 columns):\n",
            " #   Column        Non-Null Count  Dtype \n",
            "---  ------        --------------  ----- \n",
            " 0   show_id       7787 non-null   object\n",
            " 1   type          7787 non-null   object\n",
            " 2   title         7787 non-null   object\n",
            " 3   director      5398 non-null   object\n",
            " 4   cast          7069 non-null   object\n",
            " 5   country       7280 non-null   object\n",
            " 6   date_added    7777 non-null   object\n",
            " 7   release_year  7787 non-null   int64 \n",
            " 8   rating        7780 non-null   object\n",
            " 9   duration      7787 non-null   object\n",
            " 10  listed_in     7787 non-null   object\n",
            " 11  description   7787 non-null   object\n",
            "dtypes: int64(1), object(11)\n",
            "memory usage: 730.2+ KB\n"
          ]
        }
      ]
    },
    {
      "cell_type": "markdown",
      "source": [
        "#### Duplicate Values"
      ],
      "metadata": {
        "id": "35m5QtbWiB9F"
      }
    },
    {
      "cell_type": "code",
      "source": [
        "# Dataset Duplicate Value Count\n",
        "duplicate_count = df.duplicated().sum()\n",
        "print(f\"Number of duplicate rows: {duplicate_count}\")"
      ],
      "metadata": {
        "id": "1sLdpKYkmox0",
        "colab": {
          "base_uri": "https://localhost:8080/"
        },
        "outputId": "3fcbb1ab-e5a4-4e17-b001-9f52eb65f131"
      },
      "execution_count": 8,
      "outputs": [
        {
          "output_type": "stream",
          "name": "stdout",
          "text": [
            "Number of duplicate rows: 0\n"
          ]
        }
      ]
    },
    {
      "cell_type": "markdown",
      "source": [
        "#### Missing Values/Null Values"
      ],
      "metadata": {
        "id": "PoPl-ycgm1ru"
      }
    },
    {
      "cell_type": "code",
      "source": [
        "# Missing Values/Null Values Count\n",
        "missing_values = df.isnull().sum()\n",
        "print(\"Missing Values:\")\n",
        "print(missing_values)"
      ],
      "metadata": {
        "id": "GgHWkxvamxVg",
        "colab": {
          "base_uri": "https://localhost:8080/"
        },
        "outputId": "6765cdb3-98e2-45f2-e697-80d620bf38c7"
      },
      "execution_count": 11,
      "outputs": [
        {
          "output_type": "stream",
          "name": "stdout",
          "text": [
            "Missing Values:\n",
            "show_id         0\n",
            "type            0\n",
            "title           0\n",
            "director        0\n",
            "cast            0\n",
            "country         0\n",
            "date_added      0\n",
            "release_year    0\n",
            "rating          0\n",
            "duration        0\n",
            "listed_in       0\n",
            "description     0\n",
            "dtype: int64\n"
          ]
        }
      ]
    },
    {
      "cell_type": "code",
      "source": [
        "columns_to_fill = ['director', 'cast', 'country', 'date_added', 'rating']\n",
        "# Replace missing values in the specified columns with 'N/A'\n",
        "for column in columns_to_fill:\n",
        "    df[column] = df[column].fillna('N/A')\n",
        "\n",
        "print(\"DataFrame after filling missing values with 'N/A':\")\n",
        "print(df)\n"
      ],
      "metadata": {
        "colab": {
          "base_uri": "https://localhost:8080/"
        },
        "collapsed": true,
        "id": "Kg6nOw-kQgrb",
        "outputId": "1eb0cb33-e6a0-4b12-83f8-3ddc589a269e"
      },
      "execution_count": 10,
      "outputs": [
        {
          "output_type": "stream",
          "name": "stdout",
          "text": [
            "DataFrame after filling missing values with 'N/A':\n",
            "     show_id     type                                    title  \\\n",
            "0         s1  TV Show                                       3%   \n",
            "1         s2    Movie                                     7:19   \n",
            "2         s3    Movie                                    23:59   \n",
            "3         s4    Movie                                        9   \n",
            "4         s5    Movie                                       21   \n",
            "...      ...      ...                                      ...   \n",
            "7782   s7783    Movie                                     Zozo   \n",
            "7783   s7784    Movie                                   Zubaan   \n",
            "7784   s7785    Movie                        Zulu Man in Japan   \n",
            "7785   s7786  TV Show                    Zumbo's Just Desserts   \n",
            "7786   s7787    Movie  ZZ TOP: THAT LITTLE OL' BAND FROM TEXAS   \n",
            "\n",
            "               director                                               cast  \\\n",
            "0                   N/A  João Miguel, Bianca Comparato, Michel Gomes, R...   \n",
            "1     Jorge Michel Grau  Demián Bichir, Héctor Bonilla, Oscar Serrano, ...   \n",
            "2          Gilbert Chan  Tedd Chan, Stella Chung, Henley Hii, Lawrence ...   \n",
            "3           Shane Acker  Elijah Wood, John C. Reilly, Jennifer Connelly...   \n",
            "4        Robert Luketic  Jim Sturgess, Kevin Spacey, Kate Bosworth, Aar...   \n",
            "...                 ...                                                ...   \n",
            "7782        Josef Fares  Imad Creidi, Antoinette Turk, Elias Gergi, Car...   \n",
            "7783        Mozez Singh  Vicky Kaushal, Sarah-Jane Dias, Raaghav Chanan...   \n",
            "7784                N/A                                            Nasty C   \n",
            "7785                N/A                         Adriano Zumbo, Rachel Khoo   \n",
            "7786           Sam Dunn                                                N/A   \n",
            "\n",
            "                                                country          date_added  \\\n",
            "0                                                Brazil     August 14, 2020   \n",
            "1                                                Mexico   December 23, 2016   \n",
            "2                                             Singapore   December 20, 2018   \n",
            "3                                         United States   November 16, 2017   \n",
            "4                                         United States     January 1, 2020   \n",
            "...                                                 ...                 ...   \n",
            "7782  Sweden, Czech Republic, United Kingdom, Denmar...    October 19, 2020   \n",
            "7783                                              India       March 2, 2019   \n",
            "7784                                                N/A  September 25, 2020   \n",
            "7785                                          Australia    October 31, 2020   \n",
            "7786              United Kingdom, Canada, United States       March 1, 2020   \n",
            "\n",
            "      release_year rating   duration  \\\n",
            "0             2020  TV-MA  4 Seasons   \n",
            "1             2016  TV-MA     93 min   \n",
            "2             2011      R     78 min   \n",
            "3             2009  PG-13     80 min   \n",
            "4             2008  PG-13    123 min   \n",
            "...            ...    ...        ...   \n",
            "7782          2005  TV-MA     99 min   \n",
            "7783          2015  TV-14    111 min   \n",
            "7784          2019  TV-MA     44 min   \n",
            "7785          2019  TV-PG   1 Season   \n",
            "7786          2019  TV-MA     90 min   \n",
            "\n",
            "                                              listed_in  \\\n",
            "0     International TV Shows, TV Dramas, TV Sci-Fi &...   \n",
            "1                          Dramas, International Movies   \n",
            "2                   Horror Movies, International Movies   \n",
            "3     Action & Adventure, Independent Movies, Sci-Fi...   \n",
            "4                                                Dramas   \n",
            "...                                                 ...   \n",
            "7782                       Dramas, International Movies   \n",
            "7783     Dramas, International Movies, Music & Musicals   \n",
            "7784  Documentaries, International Movies, Music & M...   \n",
            "7785                 International TV Shows, Reality TV   \n",
            "7786                    Documentaries, Music & Musicals   \n",
            "\n",
            "                                            description  \n",
            "0     In a future where the elite inhabit an island ...  \n",
            "1     After a devastating earthquake hits Mexico Cit...  \n",
            "2     When an army recruit is found dead, his fellow...  \n",
            "3     In a postapocalyptic world, rag-doll robots hi...  \n",
            "4     A brilliant group of students become card-coun...  \n",
            "...                                                 ...  \n",
            "7782  When Lebanon's Civil War deprives Zozo of his ...  \n",
            "7783  A scrappy but poor boy worms his way into a ty...  \n",
            "7784  In this documentary, South African rapper Nast...  \n",
            "7785  Dessert wizard Adriano Zumbo looks for the nex...  \n",
            "7786  This documentary delves into the mystique behi...  \n",
            "\n",
            "[7787 rows x 12 columns]\n"
          ]
        }
      ]
    },
    {
      "cell_type": "markdown",
      "source": [
        "### What did you know about your dataset?"
      ],
      "metadata": {
        "id": "H0kj-8xxnORC"
      }
    },
    {
      "cell_type": "markdown",
      "source": [
        "This dataset contains 7,787 entries and 12 columns, primarily consisting of object (string) data types, with one int64 column (release_year). Most columns have a full set of non-null values, except for director (5,398 non-null), cast (7,069 non-null), country (7,280 non-null), date_added (7,777 non-null), and rating (7,780 non-null), indicating missing values in these specific fields. The remaining columns (show_id, type, title, duration, listed_in, description) are complete with no missing entries.And I have replaced the Missing Values of the respective columns with (N/A)."
      ],
      "metadata": {
        "id": "gfoNAAC-nUe_"
      }
    },
    {
      "cell_type": "markdown",
      "source": [
        "## 3. ***Data Wrangling***"
      ],
      "metadata": {
        "id": "dauF4eBmngu3"
      }
    },
    {
      "cell_type": "markdown",
      "source": [
        "### What all manipulations have you done and insights you found?"
      ],
      "metadata": {
        "id": "MSa1f5Uengrz"
      }
    },
    {
      "cell_type": "markdown",
      "source": [
        "Handling Missing Values\n",
        "\n",
        "Columns like director (2,389 missing), cast (718 missing), country (507 missing), date_added (10 missing), rating (7 missing) had missing values.\n",
        "\n",
        "\n",
        "Filled categorical/text columns (director, cast, country, etc.) with \"Unknown\".\n",
        "\n",
        "Converted release_year into numeric and filled missing with 0.\n",
        "\n",
        "Standardizing Columns\n",
        "\n",
        "Removed extra spaces in column names.\n",
        "\n",
        "Converted release_year to integer for time-series analysis.\n",
        "\n",
        "Standardized text (e.g., stripping whitespace from countries/genres).\n",
        "\n",
        "Split multi-value fields (country, genres, cast).\n",
        "\n",
        "Engineered new features (text_for_tfidf, genres_encoded).\n",
        "\n",
        "Cleaned duration column (minutes vs seasons).\n",
        "\n",
        "Prepared data for clustering (TF-IDF + one-hot encoding + scaling)."
      ],
      "metadata": {
        "id": "LbyXE7I1olp8"
      }
    },
    {
      "cell_type": "markdown",
      "source": [
        "## ***4. Data Vizualization, Storytelling & Experimenting with charts : Understand the relationships between variables***"
      ],
      "metadata": {
        "id": "GF8Ens_Soomf"
      }
    },
    {
      "cell_type": "markdown",
      "source": [
        "#### Chart - 1"
      ],
      "metadata": {
        "id": "0wOQAZs5pc--"
      }
    },
    {
      "cell_type": "code",
      "source": [
        "# Chart - 1 visualization code\n",
        "# Counts by type\n",
        "type_counts = df['type'].value_counts()\n",
        "\n",
        "plt.figure(figsize=(6,4))\n",
        "plt.bar(type_counts.index, type_counts.values)\n",
        "plt.title(\"Counts by Type (Movie / TV Show)\")\n",
        "plt.xlabel(\"Type\")\n",
        "plt.ylabel(\"Count\")\n",
        "plt.tight_layout()\n",
        "plt.show()"
      ],
      "metadata": {
        "id": "7v_ESjsspbW7",
        "colab": {
          "base_uri": "https://localhost:8080/",
          "height": 407
        },
        "outputId": "1a02a94e-5cec-40c2-ca03-e31331f3c896"
      },
      "execution_count": 12,
      "outputs": [
        {
          "output_type": "display_data",
          "data": {
            "text/plain": [
              "<Figure size 600x400 with 1 Axes>"
            ],
            "image/png": "[encoded data removed]"
          },
          "metadata": {}
        }
      ]
    },
    {
      "cell_type": "markdown",
      "source": [
        "##### 1. Why did you pick the specific chart?"
      ],
      "metadata": {
        "id": "K5QZ13OEpz2H"
      }
    },
    {
      "cell_type": "markdown",
      "source": [
        "Bar Chat easy to understand and compare between the Number of Movies and number of TV Shows."
      ],
      "metadata": {
        "id": "XESiWehPqBRc"
      }
    },
    {
      "cell_type": "markdown",
      "source": [
        "##### 2. What is/are the insight(s) found from the chart?"
      ],
      "metadata": {
        "id": "lQ7QKXXCp7Bj"
      }
    },
    {
      "cell_type": "markdown",
      "source": [
        "A bar chart comparing the number of Movies vs TV Shows."
      ],
      "metadata": {
        "id": "C_j1G7yiqdRP"
      }
    },
    {
      "cell_type": "markdown",
      "source": [
        "#### Chart - 2"
      ],
      "metadata": {
        "id": "KSlN3yHqYklG"
      }
    },
    {
      "cell_type": "code",
      "source": [
        "# Chart - 2 visualization code\n",
        "df['release_year'] = pd.to_numeric(df['release_year'], errors='coerce').fillna(0).astype(int)\n",
        "\n",
        "# Group by year and type\n",
        "yearly = df[df['release_year']>0].groupby(['release_year','type']).size().unstack(fill_value=0)\n",
        "\n",
        "plt.figure(figsize=(10,4))\n",
        "plt.plot(yearly.index, yearly.get('TV Show', 0), label='TV Show')\n",
        "plt.plot(yearly.index, yearly.get('Movie', 0), label='Movie')\n",
        "plt.xlim(1980, yearly.index.max()+1)\n",
        "plt.title(\"Releases by Year (TV Show vs Movie)\")\n",
        "plt.xlabel(\"Release Year\")\n",
        "plt.ylabel(\"Number Released\")\n",
        "plt.legend()\n",
        "plt.tight_layout()\n",
        "plt.show()"
      ],
      "metadata": {
        "id": "R4YgtaqtYklH",
        "colab": {
          "base_uri": "https://localhost:8080/",
          "height": 407
        },
        "outputId": "95c6c755-2138-49e2-d48c-17bfcb0a199e"
      },
      "execution_count": 13,
      "outputs": [
        {
          "output_type": "display_data",
          "data": {
            "text/plain": [
              "<Figure size 1000x400 with 1 Axes>"
            ],
            "image/png": "[encoded data removed]"
          },
          "metadata": {}
        }
      ]
    },
    {
      "cell_type": "markdown",
      "source": [
        "##### 1. Why did you pick the specific chart?"
      ],
      "metadata": {
        "id": "t6dVpIINYklI"
      }
    },
    {
      "cell_type": "markdown",
      "source": [
        "Line graph is easy to understand and compare the Movie and TV shows release across the release year."
      ],
      "metadata": {
        "id": "5aaW0BYyYklI"
      }
    },
    {
      "cell_type": "markdown",
      "source": [
        "##### 2. What is/are the insight(s) found from the chart?"
      ],
      "metadata": {
        "id": "ijmpgYnKYklI"
      }
    },
    {
      "cell_type": "markdown",
      "source": [
        "A line graph showing how releases of Movies vs TV Shows changed over time."
      ],
      "metadata": {
        "id": "PSx9atu2YklI"
      }
    },
    {
      "cell_type": "markdown",
      "source": [
        "#### Chart - 3"
      ],
      "metadata": {
        "id": "EM7whBJCYoAo"
      }
    },
    {
      "cell_type": "code",
      "source": [
        "# Chart - 3 visualization code\n",
        "# Country field may contain multiple entries separated by commas\n",
        "country_series = df['country'].fillna(\"Unknown\").str.split(',').explode().str.strip()\n",
        "\n",
        "# Top 15 countries\n",
        "top_countries = country_series.value_counts().head(15)\n",
        "\n",
        "plt.figure(figsize=(8,4))\n",
        "plt.barh(top_countries.index[::-1], top_countries.values[::-1])\n",
        "plt.title(\"Top 15 Countries (by Content Count)\")\n",
        "plt.xlabel(\"Count\")\n",
        "plt.tight_layout()\n",
        "plt.show()"
      ],
      "metadata": {
        "id": "t6GMdE67YoAp",
        "colab": {
          "base_uri": "https://localhost:8080/",
          "height": 407
        },
        "outputId": "43f30960-1285-4a53-c601-a29c66fefcf3"
      },
      "execution_count": 14,
      "outputs": [
        {
          "output_type": "display_data",
          "data": {
            "text/plain": [
              "<Figure size 800x400 with 1 Axes>"
            ],
            "image/png": "[encoded data removed]"
          },
          "metadata": {}
        }
      ]
    },
    {
      "cell_type": "markdown",
      "source": [
        "##### 1. Why did you pick the specific chart?"
      ],
      "metadata": {
        "id": "fge-S5ZAYoAp"
      }
    },
    {
      "cell_type": "markdown",
      "source": [
        "Used the bar chart for better understanding of top 15 countries by Content count."
      ],
      "metadata": {
        "id": "5dBItgRVYoAp"
      }
    },
    {
      "cell_type": "markdown",
      "source": [
        "##### 2. What is/are the insight(s) found from the chart?"
      ],
      "metadata": {
        "id": "85gYPyotYoAp"
      }
    },
    {
      "cell_type": "markdown",
      "source": [
        "Top countries with the maximum number of Content."
      ],
      "metadata": {
        "id": "4jstXR6OYoAp"
      }
    },
    {
      "cell_type": "markdown",
      "source": [
        "#### Chart - 4"
      ],
      "metadata": {
        "id": "4Of9eVA-YrdM"
      }
    },
    {
      "cell_type": "code",
      "source": [
        "# Chart - 4 visualization code\n",
        "# Genres field (listed_in) may contain multiple genres separated by commas\n",
        "genres = df['listed_in'].fillna(\"Unknown\").str.split(',').explode().str.strip()\n",
        "\n",
        "# Top 20 genres\n",
        "top_genres = genres.value_counts().head(20)\n",
        "\n",
        "plt.figure(figsize=(8,5))\n",
        "plt.barh(top_genres.index[::-1], top_genres.values[::-1])\n",
        "plt.title(\"Top 20 Genres / Categories\")\n",
        "plt.xlabel(\"Count\")\n",
        "plt.tight_layout()\n",
        "plt.show()"
      ],
      "metadata": {
        "id": "irlUoxc8YrdO",
        "colab": {
          "base_uri": "https://localhost:8080/",
          "height": 507
        },
        "outputId": "74005033-4c8e-4a65-86e4-24086f296ef3"
      },
      "execution_count": 15,
      "outputs": [
        {
          "output_type": "display_data",
          "data": {
            "text/plain": [
              "<Figure size 800x500 with 1 Axes>"
            ],
            "image/png": "[encoded data removed]"
          },
          "metadata": {}
        }
      ]
    },
    {
      "cell_type": "markdown",
      "source": [
        "##### 1. Why did you pick the specific chart?"
      ],
      "metadata": {
        "id": "iky9q4vBYrdO"
      }
    },
    {
      "cell_type": "markdown",
      "source": [
        "Bar chat used for easy understaing and better anaysis."
      ],
      "metadata": {
        "id": "aJRCwT6DYrdO"
      }
    },
    {
      "cell_type": "markdown",
      "source": [
        "##### 2. What is/are the insight(s) found from the chart?"
      ],
      "metadata": {
        "id": "F6T5p64dYrdO"
      }
    },
    {
      "cell_type": "markdown",
      "source": [
        "Top 20 Genres for movies and TV shows helps to understand which genres is the most used in making a movie or TV show."
      ],
      "metadata": {
        "id": "Xx8WAJvtYrdO"
      }
    },
    {
      "cell_type": "markdown",
      "source": [
        "#### Chart - 5"
      ],
      "metadata": {
        "id": "bamQiAODYuh1"
      }
    },
    {
      "cell_type": "code",
      "source": [
        "# Chart - 5 visualization code\n",
        "# Count of content by Rating\n",
        "rating_counts = df['rating'].fillna(\"Unknown\").value_counts().head(15)\n",
        "\n",
        "plt.figure(figsize=(8,5))\n",
        "plt.bar(rating_counts.index, rating_counts.values)\n",
        "plt.title(\"Top Ratings Distribution on Netflix\")\n",
        "plt.xlabel(\"Rating\")\n",
        "plt.ylabel(\"Count\")\n",
        "plt.xticks(rotation=45)\n",
        "plt.tight_layout()\n",
        "plt.show()\n"
      ],
      "metadata": {
        "id": "TIJwrbroYuh3",
        "colab": {
          "base_uri": "https://localhost:8080/",
          "height": 507
        },
        "outputId": "9e76c170-0711-418f-a2cc-a0d43220d818"
      },
      "execution_count": 16,
      "outputs": [
        {
          "output_type": "display_data",
          "data": {
            "text/plain": [
              "<Figure size 800x500 with 1 Axes>"
            ],
            "image/png": "[encoded data removed]"
          },
          "metadata": {}
        }
      ]
    },
    {
      "cell_type": "markdown",
      "source": [
        "##### 1. Why did you pick the specific chart?"
      ],
      "metadata": {
        "id": "QHF8YVU7Yuh3"
      }
    },
    {
      "cell_type": "markdown",
      "source": [
        "Column Chart used to compare the content by rating."
      ],
      "metadata": {
        "id": "dcxuIMRPYuh3"
      }
    },
    {
      "cell_type": "markdown",
      "source": [
        "##### 2. What is/are the insight(s) found from the chart?"
      ],
      "metadata": {
        "id": "GwzvFGzlYuh3"
      }
    },
    {
      "cell_type": "markdown",
      "source": [
        "This chart provides a clear understanding of the distribution of ratings across the platform."
      ],
      "metadata": {
        "id": "uyqkiB8YYuh3"
      }
    },
    {
      "cell_type": "markdown",
      "source": [
        "#### Chart - 6"
      ],
      "metadata": {
        "id": "OH-pJp9IphqM"
      }
    },
    {
      "cell_type": "code",
      "source": [
        "# Chart - 6 visualization code\n",
        "# Convert date_added to datetime\n",
        "df['date_added'] = pd.to_datetime(df['date_added'], errors='coerce')\n",
        "\n",
        "# Count of titles added per year\n",
        "added_per_year = df['date_added'].dt.year.value_counts().sort_index()\n",
        "\n",
        "plt.figure(figsize=(10,4))\n",
        "plt.plot(added_per_year.index, added_per_year.values, marker='o')\n",
        "plt.title(\"Content Added to Netflix per Year\")\n",
        "plt.xlabel(\"Year Added\")\n",
        "plt.ylabel(\"Number of Titles\")\n",
        "plt.tight_layout()\n",
        "plt.show()"
      ],
      "metadata": {
        "id": "kuRf4wtuphqN",
        "colab": {
          "base_uri": "https://localhost:8080/",
          "height": 407
        },
        "outputId": "35133836-b2bd-4358-868b-60a3cb4c0eab"
      },
      "execution_count": 17,
      "outputs": [
        {
          "output_type": "display_data",
          "data": {
            "text/plain": [
              "<Figure size 1000x400 with 1 Axes>"
            ],
            "image/png": "[encoded data removed]"
          },
          "metadata": {}
        }
      ]
    },
    {
      "cell_type": "markdown",
      "source": [
        "##### 1. Why did you pick the specific chart?"
      ],
      "metadata": {
        "id": "bbFf2-_FphqN"
      }
    },
    {
      "cell_type": "markdown",
      "source": [
        "Plot Graph can display the high and lows of the content added a per year"
      ],
      "metadata": {
        "id": "loh7H2nzphqN"
      }
    },
    {
      "cell_type": "markdown",
      "source": [
        "##### 2. What is/are the insight(s) found from the chart?"
      ],
      "metadata": {
        "id": "_ouA3fa0phqN"
      }
    },
    {
      "cell_type": "markdown",
      "source": [
        "Shows number of contents added to platform per year."
      ],
      "metadata": {
        "id": "VECbqPI7phqN"
      }
    },
    {
      "cell_type": "markdown",
      "source": [
        "#### Chart - 7"
      ],
      "metadata": {
        "id": "PIIx-8_IphqN"
      }
    },
    {
      "cell_type": "code",
      "source": [
        "# Chart - 7 visualization code\n",
        "# Filter movies and extract minutes\n",
        "movie_duration = df[df['type']==\"Movie\"]['duration'].str.replace(\" min\",\"\").astype(str)\n",
        "movie_duration = pd.to_numeric(movie_duration, errors='coerce').dropna()\n",
        "\n",
        "plt.figure(figsize=(8,4))\n",
        "plt.hist(movie_duration, bins=30, edgecolor=\"black\")\n",
        "plt.title(\"Distribution of Movie Durations (Minutes)\")\n",
        "plt.xlabel(\"Duration (min)\")\n",
        "plt.ylabel(\"Count\")\n",
        "plt.tight_layout()\n",
        "plt.show()"
      ],
      "metadata": {
        "id": "lqAIGUfyphqO",
        "colab": {
          "base_uri": "https://localhost:8080/",
          "height": 407
        },
        "outputId": "f06b03f9-903e-4c4e-c463-847f1e08003d"
      },
      "execution_count": 18,
      "outputs": [
        {
          "output_type": "display_data",
          "data": {
            "text/plain": [
              "<Figure size 800x400 with 1 Axes>"
            ],
            "image/png": "[encoded data removed]"
          },
          "metadata": {}
        }
      ]
    },
    {
      "cell_type": "markdown",
      "source": [
        "##### 1. Why did you pick the specific chart?"
      ],
      "metadata": {
        "id": "t27r6nlMphqO"
      }
    },
    {
      "cell_type": "markdown",
      "source": [
        "Histogram shows the highest Movie Duration Distribution"
      ],
      "metadata": {
        "id": "iv6ro40sphqO"
      }
    },
    {
      "cell_type": "markdown",
      "source": [
        "##### 2. What is/are the insight(s) found from the chart?"
      ],
      "metadata": {
        "id": "r2jJGEOYphqO"
      }
    },
    {
      "cell_type": "markdown",
      "source": [
        "Display the Movie Duration Distribution and shows which is the duration has the most number of Movie."
      ],
      "metadata": {
        "id": "Po6ZPi4hphqO"
      }
    },
    {
      "cell_type": "markdown",
      "source": [
        "#### Chart - 8"
      ],
      "metadata": {
        "id": "BZR9WyysphqO"
      }
    },
    {
      "cell_type": "code",
      "source": [
        "# Chart - 8 visualization code\n",
        "# Filter TV Shows and extract number of seasons\n",
        "tv_seasons = df[df['type']==\"TV Show\"]['duration'].str.replace(\" Season\",\"\").str.replace(\" Seasons\",\"\").astype(str)\n",
        "tv_seasons = pd.to_numeric(tv_seasons, errors='coerce').dropna()\n",
        "\n",
        "plt.figure(figsize=(6,4))\n",
        "plt.hist(tv_seasons, bins=15, edgecolor=\"black\")\n",
        "plt.title(\"Distribution of TV Show Seasons\")\n",
        "plt.xlabel(\"Number of Seasons\")\n",
        "plt.ylabel(\"Count\")\n",
        "plt.tight_layout()\n",
        "plt.show()"
      ],
      "metadata": {
        "id": "TdPTWpAVphqO",
        "colab": {
          "base_uri": "https://localhost:8080/",
          "height": 407
        },
        "outputId": "2b2596c0-8983-4087-d85e-a8cd0fc47230"
      },
      "execution_count": 19,
      "outputs": [
        {
          "output_type": "display_data",
          "data": {
            "text/plain": [
              "<Figure size 600x400 with 1 Axes>"
            ],
            "image/png": "[encoded data removed]"
          },
          "metadata": {}
        }
      ]
    },
    {
      "cell_type": "markdown",
      "source": [
        "##### 1. Why did you pick the specific chart?"
      ],
      "metadata": {
        "id": "jj7wYXLtphqO"
      }
    },
    {
      "cell_type": "markdown",
      "source": [
        "Histogram displays the Distribution of TV Show Seasons"
      ],
      "metadata": {
        "id": "Ob8u6rCTphqO"
      }
    },
    {
      "cell_type": "markdown",
      "source": [
        "##### 2. What is/are the insight(s) found from the chart?"
      ],
      "metadata": {
        "id": "eZrbJ2SmphqO"
      }
    },
    {
      "cell_type": "markdown",
      "source": [
        "It shows the number of seasons of the TV shows have."
      ],
      "metadata": {
        "id": "mZtgC_hjphqO"
      }
    },
    {
      "cell_type": "markdown",
      "source": [
        "#### Chart - 9"
      ],
      "metadata": {
        "id": "YJ55k-q6phqO"
      }
    },
    {
      "cell_type": "code",
      "source": [
        "# Chart - 9 visualization code\n",
        "directors = df['director'].fillna(\"Unknown\").str.split(',').explode().str.strip()\n",
        "top_directors = directors.value_counts().head(20)\n",
        "\n",
        "plt.figure(figsize=(8,5))\n",
        "plt.barh(top_directors.index[::-1], top_directors.values[::-1])\n",
        "plt.title(\"Top 20 Directors on Netflix\")\n",
        "plt.xlabel(\"Count\")\n",
        "plt.tight_layout()\n",
        "plt.show()"
      ],
      "metadata": {
        "id": "B2aS4O1ophqO",
        "colab": {
          "base_uri": "https://localhost:8080/",
          "height": 507
        },
        "outputId": "a4d20be3-2d2e-4fba-dd7f-6a791260edf2"
      },
      "execution_count": 20,
      "outputs": [
        {
          "output_type": "display_data",
          "data": {
            "text/plain": [
              "<Figure size 800x500 with 1 Axes>"
            ],
            "image/png": "[encoded data removed]"
          },
          "metadata": {}
        }
      ]
    },
    {
      "cell_type": "markdown",
      "source": [
        "##### 1. Why did you pick the specific chart?"
      ],
      "metadata": {
        "id": "gCFgpxoyphqP"
      }
    },
    {
      "cell_type": "markdown",
      "source": [
        "Horizontal Bar Chart for better understanding and comparison."
      ],
      "metadata": {
        "id": "TVxDimi2phqP"
      }
    },
    {
      "cell_type": "markdown",
      "source": [
        "##### 2. What is/are the insight(s) found from the chart?"
      ],
      "metadata": {
        "id": "OVtJsKN_phqQ"
      }
    },
    {
      "cell_type": "markdown",
      "source": [
        "Shows the Top 20 Directors of the Netflix Platform"
      ],
      "metadata": {
        "id": "ngGi97qjphqQ"
      }
    },
    {
      "cell_type": "markdown",
      "source": [
        "#### Chart - 10"
      ],
      "metadata": {
        "id": "U2RJ9gkRphqQ"
      }
    },
    {
      "cell_type": "code",
      "source": [
        "# Chart - 10 visualization code\n",
        "cast = df['cast'].fillna(\"Unknown\").str.split(',').explode().str.strip()\n",
        "top_cast = cast.value_counts().head(20)\n",
        "\n",
        "plt.figure(figsize=(8,5))\n",
        "plt.barh(top_cast.index[::-1], top_cast.values[::-1])\n",
        "plt.title(\"Top 20 Actors/Actresses on Netflix\")\n",
        "plt.xlabel(\"Count\")\n",
        "plt.tight_layout()\n",
        "plt.show()"
      ],
      "metadata": {
        "id": "GM7a4YP4phqQ",
        "colab": {
          "base_uri": "https://localhost:8080/",
          "height": 507
        },
        "outputId": "be13651f-2ee6-481b-8208-436da71261fa"
      },
      "execution_count": 21,
      "outputs": [
        {
          "output_type": "display_data",
          "data": {
            "text/plain": [
              "<Figure size 800x500 with 1 Axes>"
            ],
            "image/png": "[encoded data removed]"
          },
          "metadata": {}
        }
      ]
    },
    {
      "cell_type": "markdown",
      "source": [
        "##### 1. Why did you pick the specific chart?"
      ],
      "metadata": {
        "id": "1M8mcRywphqQ"
      }
    },
    {
      "cell_type": "markdown",
      "source": [
        "Horizontal Bar Chart for better understanding and comparison."
      ],
      "metadata": {
        "id": "8agQvks0phqQ"
      }
    },
    {
      "cell_type": "markdown",
      "source": [
        "##### 2. What is/are the insight(s) found from the chart?"
      ],
      "metadata": {
        "id": "tgIPom80phqQ"
      }
    },
    {
      "cell_type": "markdown",
      "source": [
        "Shows the Top 20 Actors/Actresses on Netflix.\n",
        "\n"
      ],
      "metadata": {
        "id": "Qp13pnNzphqQ"
      }
    },
    {
      "cell_type": "markdown",
      "source": [
        "## ***5. Hypothesis Testing***"
      ],
      "metadata": {
        "id": "g-ATYxFrGrvw"
      }
    },
    {
      "cell_type": "markdown",
      "source": [
        "### Based on your chart experiments, define three hypothetical statements from the dataset. In the next three questions, perform hypothesis testing to obtain final conclusion about the statements through your code and statistical testing."
      ],
      "metadata": {
        "id": "Yfr_Vlr8HBkt"
      }
    },
    {
      "cell_type": "markdown",
      "source": [
        "Answer Here."
      ],
      "metadata": {
        "id": "-7MS06SUHkB-"
      }
    },
    {
      "cell_type": "markdown",
      "source": [
        "### Hypothetical Statement - 1"
      ],
      "metadata": {
        "id": "8yEUt7NnHlrM"
      }
    },
    {
      "cell_type": "markdown",
      "source": [
        "#### 1. State Your research hypothesis as a null hypothesis and alternate hypothesis."
      ],
      "metadata": {
        "id": "tEA2Xm5dHt1r"
      }
    },
    {
      "cell_type": "markdown",
      "source": [
        "Answer Here."
      ],
      "metadata": {
        "id": "HI9ZP0laH0D-"
      }
    },
    {
      "cell_type": "markdown",
      "source": [
        "#### 2. Perform an appropriate statistical test."
      ],
      "metadata": {
        "id": "I79__PHVH19G"
      }
    },
    {
      "cell_type": "code",
      "source": [
        "# Perform Statistical Test to obtain P-Value"
      ],
      "metadata": {
        "id": "oZrfquKtyian"
      },
      "execution_count": null,
      "outputs": []
    },
    {
      "cell_type": "markdown",
      "source": [
        "##### Which statistical test have you done to obtain P-Value?"
      ],
      "metadata": {
        "id": "Ou-I18pAyIpj"
      }
    },
    {
      "cell_type": "markdown",
      "source": [
        "Answer Here."
      ],
      "metadata": {
        "id": "s2U0kk00ygSB"
      }
    },
    {
      "cell_type": "markdown",
      "source": [
        "##### Why did you choose the specific statistical test?"
      ],
      "metadata": {
        "id": "fF3858GYyt-u"
      }
    },
    {
      "cell_type": "markdown",
      "source": [
        "Answer Here."
      ],
      "metadata": {
        "id": "HO4K0gP5y3B4"
      }
    },
    {
      "cell_type": "markdown",
      "source": [
        "### Hypothetical Statement - 2"
      ],
      "metadata": {
        "id": "4_0_7-oCpUZd"
      }
    },
    {
      "cell_type": "markdown",
      "source": [
        "#### 1. State Your research hypothesis as a null hypothesis and alternate hypothesis."
      ],
      "metadata": {
        "id": "hwyV_J3ipUZe"
      }
    },
    {
      "cell_type": "markdown",
      "source": [
        "Answer Here."
      ],
      "metadata": {
        "id": "FnpLGJ-4pUZe"
      }
    },
    {
      "cell_type": "markdown",
      "source": [
        "#### 2. Perform an appropriate statistical test."
      ],
      "metadata": {
        "id": "3yB-zSqbpUZe"
      }
    },
    {
      "cell_type": "code",
      "source": [
        "# Perform Statistical Test to obtain P-Value"
      ],
      "metadata": {
        "id": "sWxdNTXNpUZe"
      },
      "execution_count": null,
      "outputs": []
    },
    {
      "cell_type": "markdown",
      "source": [
        "##### Which statistical test have you done to obtain P-Value?"
      ],
      "metadata": {
        "id": "dEUvejAfpUZe"
      }
    },
    {
      "cell_type": "markdown",
      "source": [
        "Answer Here."
      ],
      "metadata": {
        "id": "oLDrPz7HpUZf"
      }
    },
    {
      "cell_type": "markdown",
      "source": [
        "##### Why did you choose the specific statistical test?"
      ],
      "metadata": {
        "id": "Fd15vwWVpUZf"
      }
    },
    {
      "cell_type": "markdown",
      "source": [
        "Answer Here."
      ],
      "metadata": {
        "id": "4xOGYyiBpUZf"
      }
    },
    {
      "cell_type": "markdown",
      "source": [
        "### Hypothetical Statement - 3"
      ],
      "metadata": {
        "id": "bn_IUdTipZyH"
      }
    },
    {
      "cell_type": "markdown",
      "source": [
        "#### 1. State Your research hypothesis as a null hypothesis and alternate hypothesis."
      ],
      "metadata": {
        "id": "49K5P_iCpZyH"
      }
    },
    {
      "cell_type": "markdown",
      "source": [
        "Answer Here."
      ],
      "metadata": {
        "id": "7gWI5rT9pZyH"
      }
    },
    {
      "cell_type": "markdown",
      "source": [
        "#### 2. Perform an appropriate statistical test."
      ],
      "metadata": {
        "id": "Nff-vKELpZyI"
      }
    },
    {
      "cell_type": "code",
      "source": [
        "# Perform Statistical Test to obtain P-Value"
      ],
      "metadata": {
        "id": "s6AnJQjtpZyI"
      },
      "execution_count": null,
      "outputs": []
    },
    {
      "cell_type": "markdown",
      "source": [
        "##### Which statistical test have you done to obtain P-Value?"
      ],
      "metadata": {
        "id": "kLW572S8pZyI"
      }
    },
    {
      "cell_type": "markdown",
      "source": [
        "Answer Here."
      ],
      "metadata": {
        "id": "ytWJ8v15pZyI"
      }
    },
    {
      "cell_type": "markdown",
      "source": [
        "##### Why did you choose the specific statistical test?"
      ],
      "metadata": {
        "id": "dWbDXHzopZyI"
      }
    },
    {
      "cell_type": "markdown",
      "source": [
        "Answer Here."
      ],
      "metadata": {
        "id": "M99G98V6pZyI"
      }
    },
    {
      "cell_type": "markdown",
      "source": [
        "## ***6. Feature Engineering & Data Pre-processing***"
      ],
      "metadata": {
        "id": "yLjJCtPM0KBk"
      }
    },
    {
      "cell_type": "markdown",
      "source": [
        "### 1. Handling Missing Values"
      ],
      "metadata": {
        "id": "xiyOF9F70UgQ"
      }
    },
    {
      "cell_type": "code",
      "source": [
        "# Handling Missing Values & Missing Value Imputation\n",
        "# ---------------------------\n",
        "# Helper functions\n",
        "# ---------------------------\n",
        "import re # Import the re module for regular expressions\n",
        "from sklearn.pipeline import Pipeline\n",
        "from sklearn.impute import SimpleImputer\n",
        "from sklearn.preprocessing import OneHotEncoder\n",
        "from sklearn.compose import ColumnTransformer\n",
        "\n",
        "\n",
        "def parse_date_added(df, col='date_added'):\n",
        "    \"\"\"Parse 'date_added' into datetime and extract year/month.\"\"\"\n",
        "    if col in df.columns:\n",
        "        df[col + '_parsed'] = pd.to_datetime(df[col], errors='coerce')\n",
        "        df[col + '_year'] = df[col + '_parsed'].dt.year\n",
        "        df[col + '_month'] = df[col + '_parsed'].dt.month\n",
        "    return df\n",
        "\n",
        "def parse_duration(df, col='duration'):\n",
        "    \"\"\"Split duration like '90 min' or '2 Seasons' into numeric + unit.\"\"\"\n",
        "    if col not in df.columns:\n",
        "        df['duration_num'] = np.nan\n",
        "        df['duration_unit'] = np.nan\n",
        "        return df\n",
        "    def _parse(x):\n",
        "        if pd.isna(x):\n",
        "            return (np.nan, np.nan)\n",
        "        s = str(x).strip()\n",
        "        m = re.match(r'(\\d+)\\s*(\\w+)', s)\n",
        "        if m:\n",
        "            n = int(m.group(1))\n",
        "            u = m.group(2).lower()\n",
        "            # normalize common variants\n",
        "            if u.startswith('min'):\n",
        "                u = 'min'\n",
        "            elif u.startswith('season') or u.startswith('seasons'):\n",
        "                u = 'season'\n",
        "            return (n, u)\n",
        "        return (np.nan, np.nan)\n",
        "    dur = df[col].apply(_parse)\n",
        "    df['duration_num'] = dur.apply(lambda x: x[0])\n",
        "    df['duration_unit'] = dur.apply(lambda x: x[1])\n",
        "    return df\n",
        "\n",
        "def explode_listed_in(df, col='listed_in', new_col='genre_list'):\n",
        "    \"\"\"Turn the comma-separated 'listed_in' into a list and optionally expand later.\"\"\"\n",
        "    if col in df.columns:\n",
        "        df[new_col] = df[col].fillna('').apply(lambda s: [g.strip() for g in s.split(',') if g.strip()])\n",
        "    else:\n",
        "        df[new_col] = [[]]*len(df)\n",
        "    return df\n",
        "\n",
        "# ---------------------------\n",
        "# Feature engineering steps\n",
        "# ---------------------------\n",
        "df = parse_date_added(df, 'date_added')\n",
        "df = parse_duration(df, 'duration')\n",
        "df = explode_listed_in(df, 'listed_in', 'genre_list')\n",
        "\n",
        "# Create a short textual field that helps NLP/clustering later\n",
        "text_cols = [c for c in ['title', 'description', 'cast', 'director', 'listed_in'] if c in df.columns]\n",
        "df['text_combined'] = df[text_cols].fillna('').agg(' | '.join, axis=1).str.replace(r'\\s+', ' ', regex=True).str.strip()\n",
        "\n",
        "# ---------------------------\n",
        "# Missing-value strategies\n",
        "# ---------------------------\n",
        "# Strategy summary (applied below):\n",
        "# - Small cardinality categorical → fill with mode or 'Unknown'\n",
        "# - Large cardinality categorical (director, cast) → fill with 'Unknown' or empty string\n",
        "# - Country → fill with 'Unknown' (or you can attempt to impute from title/description)\n",
        "# - date_added_parsed → keep NaT if unknown (we also have release_year)\n",
        "# - duration_num → leave NaN or fill with median by type (movie/TV)\n",
        "# - rating → fill with mode or a special category 'Not Rated'\n",
        "# - release_year → keep as-is (it's often valid); if missing, could fill with median release year per title group\n",
        "\n",
        "# 1) Simple, explicit fills for textual columns\n",
        "df['director'] = df['director'].fillna('Unknown')\n",
        "df['cast'] = df['cast'].fillna('Unknown')\n",
        "df['country'] = df['country'].fillna('Unknown')\n",
        "df['rating'] = df.get('rating', pd.Series(['Unknown']*len(df))).fillna('Not Rated')\n",
        "df['description'] = df['description'].fillna('')          # empty string okay for NLP\n",
        "df['listed_in'] = df['listed_in'].fillna('Unknown')\n",
        "\n",
        "# 2) Impute duration_num using median per 'type' (Movie vs TV Show)\n",
        "if 'duration_num' in df.columns and 'type' in df.columns:\n",
        "    medians = df.groupby('type')['duration_num'].median()\n",
        "    # function to fill using medians\n",
        "    def fill_duration(row):\n",
        "        if pd.notna(row['duration_num']):\n",
        "            return row['duration_num']\n",
        "        t = row.get('type', None)\n",
        "        if pd.isna(t) or t not in medians.index:\n",
        "            return df['duration_num'].median()  # fallback global median\n",
        "        return medians.loc[t]\n",
        "    df['duration_num'] = df.apply(fill_duration, axis=1)\n",
        "\n",
        "# 3) If release_year has missing values (often it doesn't), fill with median per title or global median\n",
        "if 'release_year' in df.columns and df['release_year'].isna().sum() > 0:\n",
        "    df['release_year'] = df['release_year'].fillna(df['release_year'].median().round().astype(int))\n",
        "\n",
        "# 4) If year_added parsed is missing, fall back to release_year (option)\n",
        "if 'date_added_year' in df.columns or 'date_added_parsed' in df.columns:\n",
        "    # If we parsed as date_added_parsed earlier, ensure column name correct\n",
        "    parsed_col = 'date_added_parsed' if 'date_added_parsed' in df.columns else 'date_added_year'\n",
        "    if 'date_added_parsed' in df.columns:\n",
        "        df['year_added'] = df['date_added_parsed'].dt.year\n",
        "    if 'year_added' not in df.columns:\n",
        "        df['year_added'] = np.nan\n",
        "    df['year_added'] = df['year_added'].fillna(df['release_year'])\n",
        "\n",
        "# 5) Create a binary flag for missing important metadata (helpful downstream)\n",
        "df['missing_director'] = (df['director']=='Unknown').astype(int)\n",
        "df['missing_cast'] = (df['cast']=='Unknown').astype(int)\n",
        "df['missing_country'] = (df['country']=='Unknown').astype(int)\n",
        "\n",
        "# ---------------------------\n",
        "# Option: group-wise mode imputation for categorical columns\n",
        "# Example: fill country by the most common country for titles with the same director\n",
        "# ---------------------------\n",
        "def impute_categorical_by_group(df, target_col, group_col):\n",
        "    \"\"\"\n",
        "    Fill missing/Unknown values of target_col by the group's most frequent target value.\n",
        "    \"\"\"\n",
        "    df = df.copy()\n",
        "    # compute group-mode (most common) for non-missing values\n",
        "    grp_mode = (df[df[target_col].notna() & (df[target_col] != 'Unknown')]\n",
        "                .groupby(group_col)[target_col]\n",
        "                .agg(lambda x: x.mode().iloc[0] if not x.mode().empty else np.nan))\n",
        "    # map group mode back\n",
        "    df['_grp_mode'] = df[group_col].map(grp_mode)\n",
        "    mask = (df[target_col].isna()) | (df[target_col] == 'Unknown')\n",
        "    df.loc[mask, target_col] = df.loc[mask, '_grp_mode'].fillna(df[target_col].mode().iloc[0])\n",
        "    df.drop(columns=['_grp_mode'], inplace=True)\n",
        "    return df\n",
        "\n",
        "# Example usage (only if helpful): impute country by director\n",
        "if 'country' in df.columns and 'director' in df.columns:\n",
        "    df = impute_categorical_by_group(df, 'country', 'director')\n",
        "\n",
        "# ---------------------------\n",
        "# Column selection and sklearn preprocessing pipeline\n",
        "# ---------------------------\n",
        "# Choose feature groups\n",
        "numeric_features = ['duration_num', 'release_year', 'year_added']  # adjust if columns exist\n",
        "numeric_features = [c for c in numeric_features if c in df.columns]\n",
        "\n",
        "low_card_cat = ['type', 'rating']           # small number of categories\n",
        "low_card_cat = [c for c in low_card_cat if c in df.columns]\n",
        "\n",
        "high_card_cat = ['director', 'country']     # many possible values -> use target encoding or freq encoding / top N\n",
        "high_card_cat = [c for c in high_card_cat if c in df.columns]\n",
        "\n",
        "# Build transformers\n",
        "numeric_transformer = Pipeline(steps=[\n",
        "    ('imputer', SimpleImputer(strategy='median')),   # fill numeric with median\n",
        "    ('scaler', StandardScaler())\n",
        "])\n",
        "\n",
        "low_card_cat_transformer = Pipeline(steps=[\n",
        "    ('imputer', SimpleImputer(strategy='constant', fill_value='Unknown')),\n",
        "    ('onehot', OneHotEncoder(handle_unknown='ignore'))\n",
        "])\n",
        "\n",
        "# For high-cardinality categorical features it's often better to use frequency encoding\n",
        "def freq_encode(df, col):\n",
        "    freq = df[col].value_counts(normalize=True)\n",
        "    return df[col].map(freq).fillna(0.0)\n",
        "\n",
        "# Compute frequency-encoded columns now and add to df (so pipeline can use them as numeric)\n",
        "for c in high_card_cat:\n",
        "    df[c + '_freq'] = freq_encode(df, c)\n",
        "\n",
        "high_card_numeric = [c + '_freq' for c in high_card_cat]\n",
        "\n",
        "high_card_transformer = Pipeline(steps=[\n",
        "    ('imputer', SimpleImputer(strategy='constant', fill_value=0.0)),\n",
        "    ('scaler', StandardScaler())\n",
        "])\n",
        "\n",
        "# Compose a ColumnTransformer\n",
        "preprocessor = ColumnTransformer(transformers=[\n",
        "    ('num', numeric_transformer, numeric_features),\n",
        "    ('low_cat', low_card_cat_transformer, low_card_cat),\n",
        "    ('high_num', high_card_transformer, high_card_numeric),\n",
        "], remainder='drop', sparse_threshold=0)\n",
        "\n",
        "# Wrap in pipeline (you can append an estimator later)\n",
        "full_pipeline = Pipeline(steps=[('preprocessor', preprocessor)])\n",
        "\n",
        "# Fit pipeline (if you want to transform now)\n",
        "X = df[numeric_features + low_card_cat + high_card_numeric]\n",
        "full_pipeline.fit(X)      # fit transformers\n",
        "X_transformed = full_pipeline.transform(X)"
      ],
      "metadata": {
        "id": "iRsAHk1K0fpS"
      },
      "execution_count": 24,
      "outputs": []
    },
    {
      "cell_type": "markdown",
      "source": [
        "### 2. Handling Outliers"
      ],
      "metadata": {
        "id": "id1riN9m0vUs"
      }
    },
    {
      "cell_type": "code",
      "metadata": {
        "id": "29d220ad"
      },
      "source": [
        "# Handling Outliers & Outlier treatments\n",
        "# Expand Contraction\n",
        "# While there are libraries for this, for simplicity and common contractions, we'll skip this step\n",
        "# or if needed, implement a basic dictionary-based replacement.\n",
        "# Example (if needed):\n",
        "# contractions = { \"aren't\": \"are not\", \"can't\": \"cannot\", ...}\n",
        "# df['text_combined'] = df['text_combined'].apply(lambda x: ' '.join([contractions.get(word, word) for word in x.split()]))"
      ],
      "execution_count": 26,
      "outputs": []
    },
    {
      "cell_type": "code",
      "metadata": {
        "id": "5ba6edde"
      },
      "source": [
        "# Lower Casing\n",
        "df['text_combined'] = df['text_combined'].str.lower()"
      ],
      "execution_count": 27,
      "outputs": []
    },
    {
      "cell_type": "code",
      "metadata": {
        "id": "0f05ae96"
      },
      "source": [
        "# Remove Punctuations\n",
        "df['text_combined'] = df['text_combined'].str.replace(r'[^\\w\\s]', '', regex=True)"
      ],
      "execution_count": 28,
      "outputs": []
    },
    {
      "cell_type": "code",
      "metadata": {
        "id": "70671998"
      },
      "source": [
        "# Remove URLs & Remove words and digits contain digits\n",
        "# Removing URLs (basic pattern)\n",
        "df['text_combined'] = df['text_combined'].str.replace(r'http\\S+|www.\\S+', '', regex=True)\n",
        "\n",
        "# Removing words containing digits\n",
        "df['text_combined'] = df['text_combined'].apply(lambda x: ' '.join([word for word in x.split() if not any(char.isdigit() for char in word)]))"
      ],
      "execution_count": 29,
      "outputs": []
    },
    {
      "cell_type": "code",
      "metadata": {
        "id": "e8339d2d"
      },
      "source": [
        "# Remove Stopwords\n",
        "from sklearn.feature_extraction.text import ENGLISH_STOP_WORDS\n",
        "\n",
        "stop_words = set(ENGLISH_STOP_WORDS)\n",
        "df['text_combined'] = df['text_combined'].apply(lambda x: ' '.join([word for word in x.split() if word not in stop_words]))"
      ],
      "execution_count": 30,
      "outputs": []
    },
    {
      "cell_type": "code",
      "metadata": {
        "id": "8168f2f6"
      },
      "source": [
        "# Remove White spaces\n",
        "df['text_combined'] = df['text_combined'].str.strip()\n",
        "df['text_combined'] = df['text_combined'].str.replace(r'\\s+', ' ', regex=True) # Replace multiple spaces with single space"
      ],
      "execution_count": 31,
      "outputs": []
    },
    {
      "cell_type": "code",
      "metadata": {
        "id": "3171ad47"
      },
      "source": [
        "# Rephrase Text\n",
        "# Rephrasing text is a complex NLP task often involving models.\n",
        "# For this project, focusing on cleaning and vectorization is likely sufficient for clustering.\n",
        "# We will skip this step unless specifically required for a more advanced analysis."
      ],
      "execution_count": 32,
      "outputs": []
    },
    {
      "cell_type": "code",
      "metadata": {
        "id": "10ccf28b"
      },
      "source": [
        "# Tokenization\n",
        "df['text_combined_tokens'] = df['text_combined'].apply(lambda x: x.split())"
      ],
      "execution_count": 33,
      "outputs": []
    },
    {
      "cell_type": "code",
      "metadata": {
        "colab": {
          "base_uri": "https://localhost:8080/"
        },
        "id": "d39ba98c",
        "outputId": "d7fe377c-370d-4212-964f-96a3fe9419e6"
      },
      "source": [
        "# Normalizing Text (i.e., Stemming, Lemmatization etc.)\n",
        "# Using Lemmatization as it considers the context and converts the word to its meaningful base form.\n",
        "import nltk\n",
        "nltk.download('wordnet')\n",
        "from nltk.stem import WordNetLemmatizer\n",
        "\n",
        "lemmatizer = WordNetLemmatizer()\n",
        "df['text_combined_normalized'] = df['text_combined_tokens'].apply(lambda tokens: [lemmatizer.lemmatize(token) for token in tokens])"
      ],
      "execution_count": 34,
      "outputs": [
        {
          "output_type": "stream",
          "name": "stderr",
          "text": [
            "[nltk_data] Downloading package wordnet to /root/nltk_data...\n"
          ]
        }
      ]
    },
    {
      "cell_type": "markdown",
      "metadata": {
        "id": "c9c1f895"
      },
      "source": [
        "##### Which text normalization technique have you used and why?"
      ]
    },
    {
      "cell_type": "markdown",
      "metadata": {
        "id": "e05559b3"
      },
      "source": [
        "I have used **Lemmatization** for text normalization.\n",
        "\n",
        "**Why?**\n",
        "Lemmatization is preferred over stemming because it reduces words to their base or dictionary form (lemma) by considering the context of the word. This ensures that the resulting terms are actual words with meaning, which can lead to better representation and potentially improved clustering results compared to stemming, which simply chops off prefixes/suffixes and might result in non-words."
      ]
    },
    {
      "cell_type": "code",
      "metadata": {
        "id": "fa27bb27"
      },
      "source": [
        "# POS Taging\n",
        "# Part-of-speech tagging is useful for understanding the grammatical structure but may not be strictly necessary for basic text vectorization for clustering.\n",
        "# We will skip this step for now. If needed for more advanced analysis, you would typically use NLTK or spaCy.\n",
        "# import nltk\n",
        "# nltk.download('averaged_perceptron_tagger')\n",
        "# df['text_combined_pos'] = df['text_combined_tokens'].apply(nltk.tag.pos_tag)"
      ],
      "execution_count": 35,
      "outputs": []
    },
    {
      "cell_type": "code",
      "metadata": {
        "colab": {
          "base_uri": "https://localhost:8080/"
        },
        "id": "532392a8",
        "outputId": "df39e7d4-6cdb-415d-9bfe-684ce59730e0"
      },
      "source": [
        "# Vectorizing Text\n",
        "# Using TF-IDF Vectorization to convert the text data into numerical feature vectors.\n",
        "from sklearn.feature_extraction.text import TfidfVectorizer\n",
        "\n",
        "# Join the normalized tokens back into a string for TF-IDF\n",
        "df['text_combined_normalized_str'] = df['text_combined_normalized'].apply(lambda tokens: ' '.join(tokens))\n",
        "\n",
        "tfidf_vectorizer = TfidfVectorizer(max_features=5000) # You can adjust max_features based on your needs\n",
        "tfidf_matrix = tfidf_vectorizer.fit_transform(df['text_combined_normalized_str'])\n",
        "\n",
        "print(\"TF-IDF matrix shape:\", tfidf_matrix.shape)"
      ],
      "execution_count": 36,
      "outputs": [
        {
          "output_type": "stream",
          "name": "stdout",
          "text": [
            "TF-IDF matrix shape: (7787, 5000)\n"
          ]
        }
      ]
    },
    {
      "cell_type": "markdown",
      "metadata": {
        "id": "97620e4f"
      },
      "source": [
        "##### Which text vectorization technique have you used and why?"
      ]
    },
    {
      "cell_type": "markdown",
      "metadata": {
        "id": "bf116e20"
      },
      "source": [
        "I have used **TF-IDF (Term Frequency-Inverse Document Frequency)** vectorization.\n",
        "\n",
        "**Why?**\n",
        "TF-IDF is a common and effective technique for converting text data into numerical vectors. It weighs words based on their frequency in a document relative to their frequency across all documents. This helps to give more importance to words that are unique and relevant to a specific document, which is useful for tasks like clustering where you want to group similar items based on their descriptive text. It helps to capture the importance of terms in a document within the context of the entire corpus, reducing the impact of very common words."
      ]
    },
    {
      "cell_type": "markdown",
      "source": [
        "##### What all outlier treatment techniques have you used and why did you use those techniques?"
      ],
      "metadata": {
        "id": "578E2V7j08f6"
      }
    },
    {
      "cell_type": "markdown",
      "source": [
        "Answer Here."
      ],
      "metadata": {
        "id": "uGZz5OrT1HH-"
      }
    },
    {
      "cell_type": "code",
      "metadata": {
        "colab": {
          "base_uri": "https://localhost:8080/",
          "height": 758
        },
        "id": "93a0faf0",
        "outputId": "0a740c97-e8d2-43b0-e152-a5f58656eef1"
      },
      "source": [
        "from sklearn.ensemble import IsolationForest\n",
        "\n",
        "# Assuming X_transformed is your processed numerical data from the previous step\n",
        "# You might want to focus only on numerical features if X_transformed contains other types\n",
        "# For simplicity, we will use X_transformed as is, assuming it's ready for outlier detection\n",
        "\n",
        "# Initialize Isolation Forest model\n",
        "# contamination='auto' lets the model decide the proportion of outliers\n",
        "# adjust contamination if you have a prior idea about the percentage of outliers\n",
        "iso_forest = IsolationForest(contamination='auto', random_state=42)\n",
        "\n",
        "# Fit the model and predict outliers\n",
        "# -1 for outliers and 1 for inliers\n",
        "outlier_preds = iso_forest.fit_predict(X_transformed)\n",
        "\n",
        "# Add the outlier predictions to the original dataframe for analysis\n",
        "df['outlier'] = outlier_preds\n",
        "\n",
        "# You can now filter out the outliers if you choose to remove them\n",
        "# df_cleaned = df[df['outlier'] == 1]\n",
        "\n",
        "print(\"Number of outliers detected:\", (outlier_preds == -1).sum())\n",
        "print(\"Number of inliers:\", (outlier_preds == 1).sum())\n",
        "\n",
        "# Display the first few rows with the new 'outlier' column\n",
        "display(df.head())"
      ],
      "execution_count": 25,
      "outputs": [
        {
          "output_type": "stream",
          "name": "stdout",
          "text": [
            "Number of outliers detected: 991\n",
            "Number of inliers: 6796\n"
          ]
        },
        {
          "output_type": "display_data",
          "data": {
            "text/plain": [
              "  show_id     type  title           director  \\\n",
              "0      s1  TV Show     3%                N/A   \n",
              "1      s2    Movie   7:19  Jorge Michel Grau   \n",
              "2      s3    Movie  23:59       Gilbert Chan   \n",
              "3      s4    Movie      9        Shane Acker   \n",
              "4      s5    Movie     21     Robert Luketic   \n",
              "\n",
              "                                                cast        country  \\\n",
              "0  João Miguel, Bianca Comparato, Michel Gomes, R...         Brazil   \n",
              "1  Demián Bichir, Héctor Bonilla, Oscar Serrano, ...         Mexico   \n",
              "2  Tedd Chan, Stella Chung, Henley Hii, Lawrence ...      Singapore   \n",
              "3  Elijah Wood, John C. Reilly, Jennifer Connelly...  United States   \n",
              "4  Jim Sturgess, Kevin Spacey, Kate Bosworth, Aar...  United States   \n",
              "\n",
              "  date_added  release_year rating   duration  ... duration_unit  \\\n",
              "0 2020-08-14          2020  TV-MA  4 Seasons  ...        season   \n",
              "1 2016-12-23          2016  TV-MA     93 min  ...           min   \n",
              "2 2018-12-20          2011      R     78 min  ...           min   \n",
              "3 2017-11-16          2009  PG-13     80 min  ...           min   \n",
              "4 2020-01-01          2008  PG-13    123 min  ...           min   \n",
              "\n",
              "                                          genre_list  \\\n",
              "0  [International TV Shows, TV Dramas, TV Sci-Fi ...   \n",
              "1                     [Dramas, International Movies]   \n",
              "2              [Horror Movies, International Movies]   \n",
              "3  [Action & Adventure, Independent Movies, Sci-F...   \n",
              "4                                           [Dramas]   \n",
              "\n",
              "                                       text_combined  year_added  \\\n",
              "0  3% | In a future where the elite inhabit an is...      2020.0   \n",
              "1  7:19 | After a devastating earthquake hits Mex...      2016.0   \n",
              "2  23:59 | When an army recruit is found dead, hi...      2018.0   \n",
              "3  9 | In a postapocalyptic world, rag-doll robot...      2017.0   \n",
              "4  21 | A brilliant group of students become card...      2020.0   \n",
              "\n",
              "   missing_director  missing_cast missing_country director_freq country_freq  \\\n",
              "0                 0             0               0      0.306793     0.009246   \n",
              "1                 0             0               0      0.000128     0.012842   \n",
              "2                 0             0               0      0.000128     0.002954   \n",
              "3                 0             0               0      0.000128     0.328111   \n",
              "4                 0             0               0      0.000514     0.328111   \n",
              "\n",
              "   outlier  \n",
              "0        1  \n",
              "1        1  \n",
              "2        1  \n",
              "3        1  \n",
              "4        1  \n",
              "\n",
              "[5 rows x 26 columns]"
            ],
            "text/html": [
              "\n",
              "  <div id=\"df-35fe8051-8616-44f3-a64b-c8dbc6a53075\" class=\"colab-df-container\">\n",
              "    <div>\n",
              "<style scoped>\n",
              "    .dataframe tbody tr th:only-of-type {\n",
              "        vertical-align: middle;\n",
              "    }\n",
              "\n",
              "    .dataframe tbody tr th {\n",
              "        vertical-align: top;\n",
              "    }\n",
              "\n",
              "    .dataframe thead th {\n",
              "        text-align: right;\n",
              "    }\n",
              "</style>\n",
              "<table border=\"1\" class=\"dataframe\">\n",
              "  <thead>\n",
              "    <tr style=\"text-align: right;\">\n",
              "      <th></th>\n",
              "      <th>show_id</th>\n",
              "      <th>type</th>\n",
              "      <th>title</th>\n",
              "      <th>director</th>\n",
              "      <th>cast</th>\n",
              "      <th>country</th>\n",
              "      <th>date_added</th>\n",
              "      <th>release_year</th>\n",
              "      <th>rating</th>\n",
              "      <th>duration</th>\n",
              "      <th>...</th>\n",
              "      <th>duration_unit</th>\n",
              "      <th>genre_list</th>\n",
              "      <th>text_combined</th>\n",
              "      <th>year_added</th>\n",
              "      <th>missing_director</th>\n",
              "      <th>missing_cast</th>\n",
              "      <th>missing_country</th>\n",
              "      <th>director_freq</th>\n",
              "      <th>country_freq</th>\n",
              "      <th>outlier</th>\n",
              "    </tr>\n",
              "  </thead>\n",
              "  <tbody>\n",
              "    <tr>\n",
              "      <th>0</th>\n",
              "      <td>s1</td>\n",
              "      <td>TV Show</td>\n",
              "      <td>3%</td>\n",
              "      <td>N/A</td>\n",
              "      <td>João Miguel, Bianca Comparato, Michel Gomes, R...</td>\n",
              "      <td>Brazil</td>\n",
              "      <td>2020-08-14</td>\n",
              "      <td>2020</td>\n",
              "      <td>TV-MA</td>\n",
              "      <td>4 Seasons</td>\n",
              "      <td>...</td>\n",
              "      <td>season</td>\n",
              "      <td>[International TV Shows, TV Dramas, TV Sci-Fi ...</td>\n",
              "      <td>3% | In a future where the elite inhabit an is...</td>\n",
              "      <td>2020.0</td>\n",
              "      <td>0</td>\n",
              "      <td>0</td>\n",
              "      <td>0</td>\n",
              "      <td>0.306793</td>\n",
              "      <td>0.009246</td>\n",
              "      <td>1</td>\n",
              "    </tr>\n",
              "    <tr>\n",
              "      <th>1</th>\n",
              "      <td>s2</td>\n",
              "      <td>Movie</td>\n",
              "      <td>7:19</td>\n",
              "      <td>Jorge Michel Grau</td>\n",
              "      <td>Demián Bichir, Héctor Bonilla, Oscar Serrano, ...</td>\n",
              "      <td>Mexico</td>\n",
              "      <td>2016-12-23</td>\n",
              "      <td>2016</td>\n",
              "      <td>TV-MA</td>\n",
              "      <td>93 min</td>\n",
              "      <td>...</td>\n",
              "      <td>min</td>\n",
              "      <td>[Dramas, International Movies]</td>\n",
              "      <td>7:19 | After a devastating earthquake hits Mex...</td>\n",
              "      <td>2016.0</td>\n",
              "      <td>0</td>\n",
              "      <td>0</td>\n",
              "      <td>0</td>\n",
              "      <td>0.000128</td>\n",
              "      <td>0.012842</td>\n",
              "      <td>1</td>\n",
              "    </tr>\n",
              "    <tr>\n",
              "      <th>2</th>\n",
              "      <td>s3</td>\n",
              "      <td>Movie</td>\n",
              "      <td>23:59</td>\n",
              "      <td>Gilbert Chan</td>\n",
              "      <td>Tedd Chan, Stella Chung, Henley Hii, Lawrence ...</td>\n",
              "      <td>Singapore</td>\n",
              "      <td>2018-12-20</td>\n",
              "      <td>2011</td>\n",
              "      <td>R</td>\n",
              "      <td>78 min</td>\n",
              "      <td>...</td>\n",
              "      <td>min</td>\n",
              "      <td>[Horror Movies, International Movies]</td>\n",
              "      <td>23:59 | When an army recruit is found dead, hi...</td>\n",
              "      <td>2018.0</td>\n",
              "      <td>0</td>\n",
              "      <td>0</td>\n",
              "      <td>0</td>\n",
              "      <td>0.000128</td>\n",
              "      <td>0.002954</td>\n",
              "      <td>1</td>\n",
              "    </tr>\n",
              "    <tr>\n",
              "      <th>3</th>\n",
              "      <td>s4</td>\n",
              "      <td>Movie</td>\n",
              "      <td>9</td>\n",
              "      <td>Shane Acker</td>\n",
              "      <td>Elijah Wood, John C. Reilly, Jennifer Connelly...</td>\n",
              "      <td>United States</td>\n",
              "      <td>2017-11-16</td>\n",
              "      <td>2009</td>\n",
              "      <td>PG-13</td>\n",
              "      <td>80 min</td>\n",
              "      <td>...</td>\n",
              "      <td>min</td>\n",
              "      <td>[Action &amp; Adventure, Independent Movies, Sci-F...</td>\n",
              "      <td>9 | In a postapocalyptic world, rag-doll robot...</td>\n",
              "      <td>2017.0</td>\n",
              "      <td>0</td>\n",
              "      <td>0</td>\n",
              "      <td>0</td>\n",
              "      <td>0.000128</td>\n",
              "      <td>0.328111</td>\n",
              "      <td>1</td>\n",
              "    </tr>\n",
              "    <tr>\n",
              "      <th>4</th>\n",
              "      <td>s5</td>\n",
              "      <td>Movie</td>\n",
              "      <td>21</td>\n",
              "      <td>Robert Luketic</td>\n",
              "      <td>Jim Sturgess, Kevin Spacey, Kate Bosworth, Aar...</td>\n",
              "      <td>United States</td>\n",
              "      <td>2020-01-01</td>\n",
              "      <td>2008</td>\n",
              "      <td>PG-13</td>\n",
              "      <td>123 min</td>\n",
              "      <td>...</td>\n",
              "      <td>min</td>\n",
              "      <td>[Dramas]</td>\n",
              "      <td>21 | A brilliant group of students become card...</td>\n",
              "      <td>2020.0</td>\n",
              "      <td>0</td>\n",
              "      <td>0</td>\n",
              "      <td>0</td>\n",
              "      <td>0.000514</td>\n",
              "      <td>0.328111</td>\n",
              "      <td>1</td>\n",
              "    </tr>\n",
              "  </tbody>\n",
              "</table>\n",
              "<p>5 rows × 26 columns</p>\n",
              "</div>\n",
              "    <div class=\"colab-df-buttons\">\n",
              "\n",
              "  <div class=\"colab-df-container\">\n",
              "    <button class=\"colab-df-convert\" onclick=\"convertToInteractive('df-35fe8051-8616-44f3-a64b-c8dbc6a53075')\"\n",
              "            title=\"Convert this dataframe to an interactive table.\"\n",
              "            style=\"display:none;\">\n",
              "\n",
              "  <svg xmlns=\"http://www.w3.org/2000/svg\" height=\"24px\" viewBox=\"0 -960 960 960\">\n",
              "    <path d=\"M120-120v-720h720v720H120Zm60-500h600v-160H180v160Zm220 220h160v-160H400v160Zm0 220h160v-160H400v160ZM180-400h160v-160H180v160Zm440 0h160v-160H620v160ZM180-180h160v-160H180v160Zm440 0h160v-160H620v160Z\"/>\n",
              "  </svg>\n",
              "    </button>\n",
              "\n",
              "  <style>\n",
              "    .colab-df-container {\n",
              "      display:flex;\n",
              "      gap: 12px;\n",
              "    }\n",
              "\n",
              "    .colab-df-convert {\n",
              "      background-color: #E8F0FE;\n",
              "      border: none;\n",
              "      border-radius: 50%;\n",
              "      cursor: pointer;\n",
              "      display: none;\n",
              "      fill: #1967D2;\n",
              "      height: 32px;\n",
              "      padding: 0 0 0 0;\n",
              "      width: 32px;\n",
              "    }\n",
              "\n",
              "    .colab-df-convert:hover {\n",
              "      background-color: #E2EBFA;\n",
              "      box-shadow: 0px 1px 2px rgba(60, 64, 67, 0.3), 0px 1px 3px 1px rgba(60, 64, 67, 0.15);\n",
              "      fill: #174EA6;\n",
              "    }\n",
              "\n",
              "    .colab-df-buttons div {\n",
              "      margin-bottom: 4px;\n",
              "    }\n",
              "\n",
              "    [theme=dark] .colab-df-convert {\n",
              "      background-color: #3B4455;\n",
              "      fill: #D2E3FC;\n",
              "    }\n",
              "\n",
              "    [theme=dark] .colab-df-convert:hover {\n",
              "      background-color: #434B5C;\n",
              "      box-shadow: 0px 1px 3px 1px rgba(0, 0, 0, 0.15);\n",
              "      filter: drop-shadow(0px 1px 2px rgba(0, 0, 0, 0.3));\n",
              "      fill: #FFFFFF;\n",
              "    }\n",
              "  </style>\n",
              "\n",
              "    <script>\n",
              "      const buttonEl =\n",
              "        document.querySelector('#df-35fe8051-8616-44f3-a64b-c8dbc6a53075 button.colab-df-convert');\n",
              "      buttonEl.style.display =\n",
              "        google.colab.kernel.accessAllowed ? 'block' : 'none';\n",
              "\n",
              "      async function convertToInteractive(key) {\n",
              "        const element = document.querySelector('#df-35fe8051-8616-44f3-a64b-c8dbc6a53075');\n",
              "        const dataTable =\n",
              "          await google.colab.kernel.invokeFunction('convertToInteractive',\n",
              "                                                    [key], {});\n",
              "        if (!dataTable) return;\n",
              "\n",
              "        const docLinkHtml = 'Like what you see? Visit the ' +\n",
              "          '<a target=\"_blank\" href=https://colab.research.google.com/notebooks/data_table.ipynb>data table notebook</a>'\n",
              "          + ' to learn more about interactive tables.';\n",
              "        element.innerHTML = '';\n",
              "        dataTable['output_type'] = 'display_data';\n",
              "        await google.colab.output.renderOutput(dataTable, element);\n",
              "        const docLink = document.createElement('div');\n",
              "        docLink.innerHTML = docLinkHtml;\n",
              "        element.appendChild(docLink);\n",
              "      }\n",
              "    </script>\n",
              "  </div>\n",
              "\n",
              "\n",
              "    <div id=\"df-88f2c9ae-f9df-4db4-be95-3a70bdb223ca\">\n",
              "      <button class=\"colab-df-quickchart\" onclick=\"quickchart('df-88f2c9ae-f9df-4db4-be95-3a70bdb223ca')\"\n",
              "                title=\"Suggest charts\"\n",
              "                style=\"display:none;\">\n",
              "\n",
              "<svg xmlns=\"http://www.w3.org/2000/svg\" height=\"24px\"viewBox=\"0 0 24 24\"\n",
              "     width=\"24px\">\n",
              "    <g>\n",
              "        <path d=\"M19 3H5c-1.1 0-2 .9-2 2v14c0 1.1.9 2 2 2h14c1.1 0 2-.9 2-2V5c0-1.1-.9-2-2-2zM9 17H7v-7h2v7zm4 0h-2V7h2v10zm4 0h-2v-4h2v4z\"/>\n",
              "    </g>\n",
              "</svg>\n",
              "      </button>\n",
              "\n",
              "<style>\n",
              "  .colab-df-quickchart {\n",
              "      --bg-color: #E8F0FE;\n",
              "      --fill-color: #1967D2;\n",
              "      --hover-bg-color: #E2EBFA;\n",
              "      --hover-fill-color: #174EA6;\n",
              "      --disabled-fill-color: #AAA;\n",
              "      --disabled-bg-color: #DDD;\n",
              "  }\n",
              "\n",
              "  [theme=dark] .colab-df-quickchart {\n",
              "      --bg-color: #3B4455;\n",
              "      --fill-color: #D2E3FC;\n",
              "      --hover-bg-color: #434B5C;\n",
              "      --hover-fill-color: #FFFFFF;\n",
              "      --disabled-bg-color: #3B4455;\n",
              "      --disabled-fill-color: #666;\n",
              "  }\n",
              "\n",
              "  .colab-df-quickchart {\n",
              "    background-color: var(--bg-color);\n",
              "    border: none;\n",
              "    border-radius: 50%;\n",
              "    cursor: pointer;\n",
              "    display: none;\n",
              "    fill: var(--fill-color);\n",
              "    height: 32px;\n",
              "    padding: 0;\n",
              "    width: 32px;\n",
              "  }\n",
              "\n",
              "  .colab-df-quickchart:hover {\n",
              "    background-color: var(--hover-bg-color);\n",
              "    box-shadow: 0 1px 2px rgba(60, 64, 67, 0.3), 0 1px 3px 1px rgba(60, 64, 67, 0.15);\n",
              "    fill: var(--button-hover-fill-color);\n",
              "  }\n",
              "\n",
              "  .colab-df-quickchart-complete:disabled,\n",
              "  .colab-df-quickchart-complete:disabled:hover {\n",
              "    background-color: var(--disabled-bg-color);\n",
              "    fill: var(--disabled-fill-color);\n",
              "    box-shadow: none;\n",
              "  }\n",
              "\n",
              "  .colab-df-spinner {\n",
              "    border: 2px solid var(--fill-color);\n",
              "    border-color: transparent;\n",
              "    border-bottom-color: var(--fill-color);\n",
              "    animation:\n",
              "      spin 1s steps(1) infinite;\n",
              "  }\n",
              "\n",
              "  @keyframes spin {\n",
              "    0% {\n",
              "      border-color: transparent;\n",
              "      border-bottom-color: var(--fill-color);\n",
              "      border-left-color: var(--fill-color);\n",
              "    }\n",
              "    20% {\n",
              "      border-color: transparent;\n",
              "      border-left-color: var(--fill-color);\n",
              "      border-top-color: var(--fill-color);\n",
              "    }\n",
              "    30% {\n",
              "      border-color: transparent;\n",
              "      border-left-color: var(--fill-color);\n",
              "      border-top-color: var(--fill-color);\n",
              "      border-right-color: var(--fill-color);\n",
              "    }\n",
              "    40% {\n",
              "      border-color: transparent;\n",
              "      border-right-color: var(--fill-color);\n",
              "      border-top-color: var(--fill-color);\n",
              "    }\n",
              "    60% {\n",
              "      border-color: transparent;\n",
              "      border-right-color: var(--fill-color);\n",
              "    }\n",
              "    80% {\n",
              "      border-color: transparent;\n",
              "      border-right-color: var(--fill-color);\n",
              "      border-bottom-color: var(--fill-color);\n",
              "    }\n",
              "    90% {\n",
              "      border-color: transparent;\n",
              "      border-bottom-color: var(--fill-color);\n",
              "    }\n",
              "  }\n",
              "</style>\n",
              "\n",
              "      <script>\n",
              "        async function quickchart(key) {\n",
              "          const quickchartButtonEl =\n",
              "            document.querySelector('#' + key + ' button');\n",
              "          quickchartButtonEl.disabled = true;  // To prevent multiple clicks.\n",
              "          quickchartButtonEl.classList.add('colab-df-spinner');\n",
              "          try {\n",
              "            const charts = await google.colab.kernel.invokeFunction(\n",
              "                'suggestCharts', [key], {});\n",
              "          } catch (error) {\n",
              "            console.error('Error during call to suggestCharts:', error);\n",
              "          }\n",
              "          quickchartButtonEl.classList.remove('colab-df-spinner');\n",
              "          quickchartButtonEl.classList.add('colab-df-quickchart-complete');\n",
              "        }\n",
              "        (() => {\n",
              "          let quickchartButtonEl =\n",
              "            document.querySelector('#df-88f2c9ae-f9df-4db4-be95-3a70bdb223ca button');\n",
              "          quickchartButtonEl.style.display =\n",
              "            google.colab.kernel.accessAllowed ? 'block' : 'none';\n",
              "        })();\n",
              "      </script>\n",
              "    </div>\n",
              "\n",
              "    </div>\n",
              "  </div>\n"
            ],
            "application/vnd.google.colaboratory.intrinsic+json": {
              "type": "dataframe"
            }
          },
          "metadata": {}
        }
      ]
    },
    {
      "cell_type": "markdown",
      "source": [
        "#### What all missing value imputation techniques have you used and why did you use those techniques?"
      ],
      "metadata": {
        "id": "7wuGOrhz0itI"
      }
    },
    {
      "cell_type": "markdown",
      "source": [
        "Answer Here."
      ],
      "metadata": {
        "id": "1ixusLtI0pqI"
      }
    },
    {
      "cell_type": "markdown",
      "source": [
        "### 3. Categorical Encoding"
      ],
      "metadata": {
        "id": "89xtkJwZ18nB"
      }
    },
    {
      "cell_type": "code",
      "source": [
        "# Encode your categorical columns"
      ],
      "metadata": {
        "id": "21JmIYMG2hEo"
      },
      "execution_count": null,
      "outputs": []
    },
    {
      "cell_type": "markdown",
      "source": [
        "#### What all categorical encoding techniques have you used & why did you use those techniques?"
      ],
      "metadata": {
        "id": "67NQN5KX2AMe"
      }
    },
    {
      "cell_type": "markdown",
      "source": [
        "Answer Here."
      ],
      "metadata": {
        "id": "UDaue5h32n_G"
      }
    },
    {
      "cell_type": "markdown",
      "source": [
        "### 4. Textual Data Preprocessing\n",
        "(It's mandatory for textual dataset i.e., NLP, Sentiment Analysis, Text Clustering etc.)"
      ],
      "metadata": {
        "id": "Iwf50b-R2tYG"
      }
    },
    {
      "cell_type": "markdown",
      "source": [
        "#### 1. Expand Contraction"
      ],
      "metadata": {
        "id": "GMQiZwjn3iu7"
      }
    },
    {
      "cell_type": "code",
      "source": [
        "# Expand Contraction"
      ],
      "metadata": {
        "id": "PTouz10C3oNN"
      },
      "execution_count": null,
      "outputs": []
    },
    {
      "cell_type": "markdown",
      "source": [
        "#### 2. Lower Casing"
      ],
      "metadata": {
        "id": "WVIkgGqN3qsr"
      }
    },
    {
      "cell_type": "code",
      "source": [
        "# Lower Casing"
      ],
      "metadata": {
        "id": "88JnJ1jN3w7j"
      },
      "execution_count": null,
      "outputs": []
    },
    {
      "cell_type": "markdown",
      "source": [
        "#### 3. Removing Punctuations"
      ],
      "metadata": {
        "id": "XkPnILGE3zoT"
      }
    },
    {
      "cell_type": "code",
      "source": [
        "# Remove Punctuations"
      ],
      "metadata": {
        "id": "vqbBqNaA33c0"
      },
      "execution_count": null,
      "outputs": []
    },
    {
      "cell_type": "markdown",
      "source": [
        "#### 4. Removing URLs & Removing words and digits contain digits."
      ],
      "metadata": {
        "id": "Hlsf0x5436Go"
      }
    },
    {
      "cell_type": "code",
      "source": [
        "# Remove URLs & Remove words and digits contain digits"
      ],
      "metadata": {
        "id": "2sxKgKxu4Ip3"
      },
      "execution_count": null,
      "outputs": []
    },
    {
      "cell_type": "markdown",
      "source": [
        "#### 5. Removing Stopwords & Removing White spaces"
      ],
      "metadata": {
        "id": "mT9DMSJo4nBL"
      }
    },
    {
      "cell_type": "code",
      "source": [
        "# Remove Stopwords"
      ],
      "metadata": {
        "id": "T2LSJh154s8W"
      },
      "execution_count": null,
      "outputs": []
    },
    {
      "cell_type": "code",
      "source": [
        "# Remove White spaces"
      ],
      "metadata": {
        "id": "EgLJGffy4vm0"
      },
      "execution_count": null,
      "outputs": []
    },
    {
      "cell_type": "markdown",
      "source": [
        "#### 6. Rephrase Text"
      ],
      "metadata": {
        "id": "c49ITxTc407N"
      }
    },
    {
      "cell_type": "code",
      "source": [
        "# Rephrase Text"
      ],
      "metadata": {
        "id": "foqY80Qu48N2"
      },
      "execution_count": null,
      "outputs": []
    },
    {
      "cell_type": "markdown",
      "source": [
        "#### 7. Tokenization"
      ],
      "metadata": {
        "id": "OeJFEK0N496M"
      }
    },
    {
      "cell_type": "code",
      "source": [
        "# Tokenization"
      ],
      "metadata": {
        "id": "ijx1rUOS5CUU"
      },
      "execution_count": null,
      "outputs": []
    },
    {
      "cell_type": "markdown",
      "source": [
        "#### 8. Text Normalization"
      ],
      "metadata": {
        "id": "9ExmJH0g5HBk"
      }
    },
    {
      "cell_type": "code",
      "source": [
        "# Normalizing Text (i.e., Stemming, Lemmatization etc.)"
      ],
      "metadata": {
        "id": "AIJ1a-Zc5PY8"
      },
      "execution_count": null,
      "outputs": []
    },
    {
      "cell_type": "markdown",
      "source": [
        "##### Which text normalization technique have you used and why?"
      ],
      "metadata": {
        "id": "cJNqERVU536h"
      }
    },
    {
      "cell_type": "markdown",
      "source": [
        "Answer Here."
      ],
      "metadata": {
        "id": "Z9jKVxE06BC1"
      }
    },
    {
      "cell_type": "markdown",
      "source": [
        "#### 9. Part of speech tagging"
      ],
      "metadata": {
        "id": "k5UmGsbsOxih"
      }
    },
    {
      "cell_type": "code",
      "source": [
        "# POS Taging"
      ],
      "metadata": {
        "id": "btT3ZJBAO6Ik"
      },
      "execution_count": null,
      "outputs": []
    },
    {
      "cell_type": "markdown",
      "source": [
        "#### 10. Text Vectorization"
      ],
      "metadata": {
        "id": "T0VqWOYE6DLQ"
      }
    },
    {
      "cell_type": "code",
      "source": [
        "# Vectorizing Text"
      ],
      "metadata": {
        "id": "yBRtdhth6JDE"
      },
      "execution_count": null,
      "outputs": []
    },
    {
      "cell_type": "markdown",
      "source": [
        "##### Which text vectorization technique have you used and why?"
      ],
      "metadata": {
        "id": "qBMux9mC6MCf"
      }
    },
    {
      "cell_type": "markdown",
      "source": [
        "Answer Here."
      ],
      "metadata": {
        "id": "su2EnbCh6UKQ"
      }
    },
    {
      "cell_type": "markdown",
      "source": [
        "### 4. Feature Manipulation & Selection"
      ],
      "metadata": {
        "id": "-oLEiFgy-5Pf"
      }
    },
    {
      "cell_type": "markdown",
      "source": [
        "#### 1. Feature Manipulation"
      ],
      "metadata": {
        "id": "C74aWNz2AliB"
      }
    },
    {
      "cell_type": "code",
      "source": [
        "# Manipulate Features to minimize feature correlation and create new features\n"
      ],
      "metadata": {
        "id": "h1qC4yhBApWC"
      },
      "execution_count": null,
      "outputs": []
    },
    {
      "cell_type": "code",
      "metadata": {
        "colab": {
          "base_uri": "https://localhost:8080/"
        },
        "id": "d7b0d59c",
        "outputId": "904a254d-9f76-4c96-f102-ad78d3f21c2f"
      },
      "source": [
        "# Manipulate Features to minimize feature correlation and create new features\n",
        "# Combine the numerical/categorical features and the text features\n",
        "\n",
        "# Ensure X_transformed and tfidf_matrix have the same number of samples\n",
        "print(\"Shape of X_transformed:\", X_transformed.shape)\n",
        "print(\"Shape of tfidf_matrix:\", tfidf_matrix.shape)\n",
        "\n",
        "# Combine using hstack (horizontal stack) from scipy.sparse\n",
        "# Convert X_transformed to sparse matrix if it's dense (it might be depending on OneHotEncoder output)\n",
        "if not isinstance(X_transformed, csr_matrix):\n",
        "    X_transformed_sparse = csr_matrix(X_transformed)\n",
        "else:\n",
        "    X_transformed_sparse = X_transformed\n",
        "\n",
        "combined_features = hstack([X_transformed_sparse, tfidf_matrix])\n",
        "\n",
        "print(\"\\nShape of combined features matrix:\", combined_features.shape)"
      ],
      "execution_count": 37,
      "outputs": [
        {
          "output_type": "stream",
          "name": "stdout",
          "text": [
            "Shape of X_transformed: (7787, 22)\n",
            "Shape of tfidf_matrix: (7787, 5000)\n",
            "\n",
            "Shape of combined features matrix: (7787, 5022)\n"
          ]
        }
      ]
    },
    {
      "cell_type": "markdown",
      "source": [
        "#### 2. Feature Selection"
      ],
      "metadata": {
        "id": "2DejudWSA-a0"
      }
    },
    {
      "cell_type": "code",
      "source": [
        "# Select your features wisely to avoid overfitting"
      ],
      "metadata": {
        "id": "YLhe8UmaBCEE"
      },
      "execution_count": null,
      "outputs": []
    },
    {
      "cell_type": "markdown",
      "source": [
        "##### What all feature selection methods have you used  and why?"
      ],
      "metadata": {
        "id": "pEMng2IbBLp7"
      }
    },
    {
      "cell_type": "markdown",
      "source": [
        "Answer Here."
      ],
      "metadata": {
        "id": "rb2Lh6Z8BgGs"
      }
    },
    {
      "cell_type": "markdown",
      "source": [
        "##### Which all features you found important and why?"
      ],
      "metadata": {
        "id": "rAdphbQ9Bhjc"
      }
    },
    {
      "cell_type": "markdown",
      "source": [
        "Answer Here."
      ],
      "metadata": {
        "id": "fGgaEstsBnaf"
      }
    },
    {
      "cell_type": "markdown",
      "source": [
        "### 5. Data Transformation"
      ],
      "metadata": {
        "id": "TNVZ9zx19K6k"
      }
    },
    {
      "cell_type": "markdown",
      "source": [
        "#### Do you think that your data needs to be transformed? If yes, which transformation have you used. Explain Why?"
      ],
      "metadata": {
        "id": "nqoHp30x9hH9"
      }
    },
    {
      "cell_type": "code",
      "source": [
        "# Transform Your data\n",
        "\n",
        "# Data transformation (e.g., logarithmic, power transformations) is often used to address skewness\n",
        "# in numerical data or stabilize variance. However, given that the numerical features have already\n",
        "# been scaled using StandardScaler and combined with sparse TF-IDF features, additional general\n",
        "# data transformations might not be necessary or suitable for the combined sparse matrix.\n",
        "# The scaling step already addresses some aspects that transformations aim for.\n",
        "# For this clustering task with mixed data types and sparse text features, we will proceed\n",
        "# without applying further explicit data transformations to the combined feature matrix."
      ],
      "metadata": {
        "id": "I6quWQ1T9rtH"
      },
      "execution_count": 38,
      "outputs": []
    },
    {
      "cell_type": "markdown",
      "source": [
        "### 6. Data Scaling"
      ],
      "metadata": {
        "id": "rMDnDkt2B6du"
      }
    },
    {
      "cell_type": "code",
      "source": [
        "# Scaling your data\n",
        "\n",
        "# Numerical features were scaled using StandardScaler in the preprocessing pipeline (cell iRsAHk1K0fpS).\n",
        "# The combined feature matrix includes these scaled numerical features and TF-IDF features.\n",
        "# TF-IDF features are already a form of weighted representation.\n",
        "# Applying standard scalers like StandardScaler directly to the combined sparse matrix is not typical.\n",
        "# We will proceed with the combined_features as is, relying on the scaling already performed on numerical features.\n",
        "# If further scaling of the combined sparse matrix were required, techniques like MaxAbsScaler or\n",
        "# normalizing sparse matrix rows could be considered, but are not applied here."
      ],
      "metadata": {
        "id": "dL9LWpySC6x_"
      },
      "execution_count": 39,
      "outputs": []
    },
    {
      "cell_type": "markdown",
      "source": [
        "##### Which method have you used to scale you data and why?"
      ],
      "metadata": {
        "id": "yiiVWRdJDDil"
      }
    },
    {
      "cell_type": "markdown",
      "source": [
        "### 7. Dimesionality Reduction"
      ],
      "metadata": {
        "id": "1UUpS68QDMuG"
      }
    },
    {
      "cell_type": "markdown",
      "source": [
        "##### Do you think that dimensionality reduction is needed? Explain Why?"
      ],
      "metadata": {
        "id": "kexQrXU-DjzY"
      }
    },
    {
      "cell_type": "markdown",
      "source": [
        "Answer Here."
      ],
      "metadata": {
        "id": "GGRlBsSGDtTQ"
      }
    },
    {
      "cell_type": "code",
      "source": [
        "# DImensionality Reduction (If needed)\n"
      ],
      "metadata": {
        "id": "kQfvxBBHDvCa"
      },
      "execution_count": null,
      "outputs": []
    },
    {
      "cell_type": "code",
      "metadata": {
        "colab": {
          "base_uri": "https://localhost:8080/"
        },
        "id": "3fcd4059",
        "outputId": "d6b19204-b456-48ae-c788-150f2c0cca5f"
      },
      "source": [
        "# DImensionality Reduction (If needed)\n",
        "from sklearn.decomposition import TruncatedSVD\n",
        "\n",
        "# Choose the number of components (you might need to experiment with this)\n",
        "# A common starting point is to retain a significant portion of the variance\n",
        "n_components = 200  # You can adjust this number\n",
        "\n",
        "svd = TruncatedSVD(n_components=n_components, random_state=42)\n",
        "\n",
        "# Fit and transform the combined features\n",
        "reduced_features = svd.fit_transform(combined_features)\n",
        "\n",
        "print(f\"Shape of reduced features matrix: {reduced_features.shape}\")\n",
        "\n",
        "# You can check the explained variance ratio (how much information is retained)\n",
        "print(f\"Explained variance ratio of the first {n_components} components: {svd.explained_variance_ratio_.sum():.4f}\")"
      ],
      "execution_count": 40,
      "outputs": [
        {
          "output_type": "stream",
          "name": "stdout",
          "text": [
            "Shape of reduced features matrix: (7787, 200)\n",
            "Explained variance ratio of the first 200 components: 0.8938\n"
          ]
        }
      ]
    },
    {
      "cell_type": "markdown",
      "source": [
        "##### Which dimensionality reduction technique have you used and why? (If dimensionality reduction done on dataset.)"
      ],
      "metadata": {
        "id": "T5CmagL3EC8N"
      }
    },
    {
      "cell_type": "markdown",
      "source": [
        "Answer Here."
      ],
      "metadata": {
        "id": "ZKr75IDuEM7t"
      }
    },
    {
      "cell_type": "markdown",
      "source": [
        "### 8. Data Splitting"
      ],
      "metadata": {
        "id": "BhH2vgX9EjGr"
      }
    },
    {
      "cell_type": "code",
      "source": [
        "# Split your data to train and test. Choose Splitting ratio wisely."
      ],
      "metadata": {
        "id": "0CTyd2UwEyNM"
      },
      "execution_count": null,
      "outputs": []
    },
    {
      "cell_type": "markdown",
      "source": [
        "##### What data splitting ratio have you used and why?"
      ],
      "metadata": {
        "id": "qjKvONjwE8ra"
      }
    },
    {
      "cell_type": "markdown",
      "source": [
        "Answer Here."
      ],
      "metadata": {
        "id": "Y2lJ8cobFDb_"
      }
    },
    {
      "cell_type": "markdown",
      "source": [
        "### 9. Handling Imbalanced Dataset"
      ],
      "metadata": {
        "id": "P1XJ9OREExlT"
      }
    },
    {
      "cell_type": "markdown",
      "source": [
        "##### Do you think the dataset is imbalanced? Explain Why."
      ],
      "metadata": {
        "id": "VFOzZv6IFROw"
      }
    },
    {
      "cell_type": "markdown",
      "source": [
        "Answer Here."
      ],
      "metadata": {
        "id": "GeKDIv7pFgcC"
      }
    },
    {
      "cell_type": "code",
      "source": [
        "# Handling Imbalanced Dataset (If needed)"
      ],
      "metadata": {
        "id": "nQsRhhZLFiDs"
      },
      "execution_count": null,
      "outputs": []
    },
    {
      "cell_type": "markdown",
      "source": [
        "##### What technique did you use to handle the imbalance dataset and why? (If needed to be balanced)"
      ],
      "metadata": {
        "id": "TIqpNgepFxVj"
      }
    },
    {
      "cell_type": "markdown",
      "source": [
        "Answer Here."
      ],
      "metadata": {
        "id": "qbet1HwdGDTz"
      }
    },
    {
      "cell_type": "markdown",
      "source": [
        "## ***7. ML Model Implementation***"
      ],
      "metadata": {
        "id": "VfCC591jGiD4"
      }
    },
    {
      "cell_type": "markdown",
      "source": [
        "### ML Model - 1"
      ],
      "metadata": {
        "id": "OB4l2ZhMeS1U"
      }
    },
    {
      "cell_type": "code",
      "source": [
        "# ML Model - 1 Implementation\n",
        "\n",
        "# Fit the Algorithm\n",
        "\n",
        "# Predict on the model\n"
      ],
      "metadata": {
        "id": "7ebyywQieS1U"
      },
      "execution_count": null,
      "outputs": []
    },
    {
      "cell_type": "code",
      "metadata": {
        "colab": {
          "base_uri": "https://localhost:8080/"
        },
        "id": "2e4247b0",
        "outputId": "c20bf13b-15eb-4887-9719-0ced02081981"
      },
      "source": [
        "# ML Model - 1 Implementation - KMeans\n",
        "\n",
        "from sklearn.cluster import KMeans\n",
        "from sklearn.metrics import silhouette_score\n",
        "\n",
        "# Determine the optimal number of clusters (e.g., using Elbow Method or Silhouette Score)\n",
        "# For demonstration, let's choose a starting number of clusters (e.g., 5)\n",
        "n_clusters = 5 # You should determine this based on analysis\n",
        "\n",
        "# Initialize KMeans\n",
        "kmeans = KMeans(n_clusters=n_clusters, random_state=42, n_init=10) # Added n_init for modern sklearn versions\n",
        "\n",
        "# Fit KMeans to the reduced features\n",
        "kmeans.fit(reduced_features)\n",
        "\n",
        "# Get cluster labels\n",
        "cluster_labels = kmeans.labels_\n",
        "\n",
        "# Add cluster labels to the original dataframe\n",
        "df['kmeans_cluster'] = cluster_labels\n",
        "\n",
        "# Evaluate the clustering using Silhouette Score\n",
        "silhouette_avg = silhouette_score(reduced_features, cluster_labels)\n",
        "\n",
        "print(f\"Silhouette Score for {n_clusters} clusters: {silhouette_avg:.4f}\")\n",
        "\n",
        "# You can now analyze the clusters in the 'df' DataFrame\n",
        "# Example: View the count of items in each cluster\n",
        "print(\"\\nDistribution of items per cluster:\")\n",
        "print(df['kmeans_cluster'].value_counts().sort_index())\n",
        "\n",
        "# Example: View some items from a specific cluster (e.g., cluster 0)\n",
        "# print(\"\\nSample items from Cluster 0:\")\n",
        "# display(df[df['kmeans_cluster'] == 0].head())"
      ],
      "execution_count": 41,
      "outputs": [
        {
          "output_type": "stream",
          "name": "stdout",
          "text": [
            "Silhouette Score for 5 clusters: 0.3014\n",
            "\n",
            "Distribution of items per cluster:\n",
            "kmeans_cluster\n",
            "0    1769\n",
            "1     359\n",
            "2    3255\n",
            "3     743\n",
            "4    1661\n",
            "Name: count, dtype: int64\n"
          ]
        }
      ]
    },
    {
      "cell_type": "markdown",
      "source": [
        "#### 1. Explain the ML Model used and it's performance using Evaluation metric Score Chart."
      ],
      "metadata": {
        "id": "ArJBuiUVfxKd"
      }
    },
    {
      "cell_type": "code",
      "source": [
        "# Visualizing evaluation Metric Score chart\n",
        "\n",
        "# While a single Silhouette Score for 5 clusters can be printed,\n",
        "# a visualization is more informative when comparing scores across\n",
        "# a range of cluster numbers to find the optimal k.\n",
        "\n",
        "# To visualize the silhouette score more effectively, you would typically\n",
        "# compute the silhouette score for a range of n_clusters values and plot them.\n",
        "# For example:\n",
        "\n",
        "# silhouette_scores = []\n",
        "# k_range = range(2, 11) # Example range of cluster numbers\n",
        "# for k in k_range:\n",
        "#     kmeans = KMeans(n_clusters=k, random_state=42, n_init=10)\n",
        "#     kmeans.fit(reduced_features)\n",
        "#     score = silhouette_score(reduced_features, kmeans.labels_)\n",
        "#     silhouette_scores.append(score)\n",
        "\n",
        "# plt.figure(figsize=(8, 4))\n",
        "# plt.plot(k_range, silhouette_scores, marker='o')\n",
        "# plt.title(\"Silhouette Score vs. Number of Clusters\")\n",
        "# plt.xlabel(\"Number of Clusters (k)\")\n",
        "# plt.ylabel(\"Silhouette Score\")\n",
        "# plt.xticks(k_range)\n",
        "# plt.grid(True)\n",
        "# plt.show()\n",
        "\n",
        "# For the single result with n_clusters=5:\n",
        "print(f\"Silhouette Score for {n_clusters} clusters: {silhouette_avg:.4f}\")"
      ],
      "metadata": {
        "id": "rqD5ZohzfxKe",
        "colab": {
          "base_uri": "https://localhost:8080/"
        },
        "outputId": "e3e95dfd-2f8c-40e9-b693-cd63ddb7835b"
      },
      "execution_count": 44,
      "outputs": [
        {
          "output_type": "stream",
          "name": "stdout",
          "text": [
            "Silhouette Score for 5 clusters: 0.3014\n"
          ]
        }
      ]
    },
    {
      "cell_type": "markdown",
      "source": [
        "#### 2. Cross- Validation & Hyperparameter Tuning"
      ],
      "metadata": {
        "id": "4qY1EAkEfxKe"
      }
    },
    {
      "cell_type": "code",
      "metadata": {
        "colab": {
          "base_uri": "https://localhost:8080/",
          "height": 601
        },
        "id": "769caeae",
        "outputId": "66e01c9b-6362-47c0-836a-04e27c06435a"
      },
      "source": [
        "# Cross- Validation & Hyperparameter Tuning for n_clusters\n",
        "\n",
        "silhouette_scores = []\n",
        "# Define a range of cluster numbers to evaluate\n",
        "k_range = range(2, 11) # You can adjust this range\n",
        "\n",
        "for k in k_range:\n",
        "    # Initialize KMeans with the current number of clusters\n",
        "    kmeans = KMeans(n_clusters=k, random_state=42, n_init=10)\n",
        "\n",
        "    # Fit KMeans to the reduced features\n",
        "    kmeans.fit(reduced_features)\n",
        "\n",
        "    # Calculate the Silhouette Score\n",
        "    score = silhouette_score(reduced_features, kmeans.labels_)\n",
        "\n",
        "    # Append the score to the list\n",
        "    silhouette_scores.append(score)\n",
        "    print(f\"Calculated Silhouette Score for k={k}\") # Print progress\n",
        "\n",
        "# Plot the Silhouette Scores\n",
        "plt.figure(figsize=(8, 4))\n",
        "plt.plot(k_range, silhouette_scores, marker='o')\n",
        "plt.title(\"Silhouette Score vs. Number of Clusters (KMeans)\")\n",
        "plt.xlabel(\"Number of Clusters (k)\")\n",
        "plt.ylabel(\"Silhouette Score\")\n",
        "plt.xticks(k_range)\n",
        "plt.grid(True)\n",
        "plt.show()\n",
        "\n",
        "# Find the optimal number of clusters based on the highest Silhouette Score\n",
        "optimal_k = int(k_range[silhouette_scores.index(max(silhouette_scores))]) # Explicitly convert to int\n",
        "print(f\"\\nOptimal number of clusters based on Silhouette Score: {optimal_k}\")"
      ],
      "execution_count": 47,
      "outputs": [
        {
          "output_type": "stream",
          "name": "stdout",
          "text": [
            "Calculated Silhouette Score for k=2\n",
            "Calculated Silhouette Score for k=3\n",
            "Calculated Silhouette Score for k=4\n",
            "Calculated Silhouette Score for k=5\n",
            "Calculated Silhouette Score for k=6\n",
            "Calculated Silhouette Score for k=7\n",
            "Calculated Silhouette Score for k=8\n",
            "Calculated Silhouette Score for k=9\n",
            "Calculated Silhouette Score for k=10\n"
          ]
        },
        {
          "output_type": "display_data",
          "data": {
            "text/plain": [
              "<Figure size 800x400 with 1 Axes>"
            ],
            "image/png": "[encoded data removed]"
          },
          "metadata": {}
        },
        {
          "output_type": "stream",
          "name": "stdout",
          "text": [
            "\n",
            "Optimal number of clusters based on Silhouette Score: 2\n"
          ]
        }
      ]
    },
    {
      "cell_type": "code",
      "source": [
        "# ML Model - 1 Implementation with hyperparameter optimization techniques (i.e., GridSearch CV, RandomSearch CV, Bayesian Optimization etc.)\n",
        "\n",
        "# Fit the Algorithm\n",
        "\n",
        "# Predict on the model"
      ],
      "metadata": {
        "id": "Dy61ujd6fxKe"
      },
      "execution_count": null,
      "outputs": []
    },
    {
      "cell_type": "markdown",
      "source": [
        "##### Which hyperparameter optimization technique have you used and why?"
      ],
      "metadata": {
        "id": "PiV4Ypx8fxKe"
      }
    },
    {
      "cell_type": "markdown",
      "source": [
        "I have used an iterative evaluation approach to \"tune\" the n_clusters hyperparameter for the KMeans model.\n",
        "\n",
        "Why?\n",
        "\n",
        "For unsupervised learning algorithms like KMeans, traditional hyperparameter optimization techniques like Grid Search or Random Search (which rely on performance metrics on labeled data through cross-validation) are not directly applicable.\n",
        "\n",
        "Instead, the common practice is to:\n",
        "\n",
        "Define a relevant evaluation metric that measures clustering quality (in this case, the Silhouette Score).\n",
        "Define a range of values for the hyperparameter you want to tune (in this case, the number of clusters k).\n",
        "Train the clustering model for each value in the range.\n",
        "Calculate the evaluation metric for each model.\n",
        "Select the hyperparameter value that results in the best metric score.\n",
        "The code I provided calculated the Silhouette Score for KMeans with n_clusters ranging from 2 to 10 and identified the k value that maximized this score. This systematic evaluation helps in selecting a more appropriate number of clusters for the data compared to arbitrarily choosing a number.\n",
        "\n",
        "\n"
      ],
      "metadata": {
        "id": "negyGRa7fxKf"
      }
    },
    {
      "cell_type": "markdown",
      "source": [
        "##### Have you seen any improvement? Note down the improvement with updates Evaluation metric Score Chart."
      ],
      "metadata": {
        "id": "TfvqoZmBfxKf"
      }
    },
    {
      "cell_type": "markdown",
      "source": [
        "Yes, based on the Silhouette Score, there is an improvement when selecting the number of clusters based on the iterative evaluation.\n",
        "\n",
        "The initial KMeans model with {{n_clusters}} clusters had a Silhouette Score of {{silhouette_avg:.4f}}.\n",
        "After evaluating the Silhouette Score for a range of cluster numbers (2 to 10), the optimal number of clusters found was {{optimal_k}}, which resulted in a higher Silhouette Score of {{max(silhouette_scores):.4f}}.\n",
        "This improvement in the Silhouette Score suggests that clustering the data into {{optimal_k}} groups results in clusters that are better defined and more separated compared to using 5 clusters."
      ],
      "metadata": {
        "id": "OaLui8CcfxKf"
      }
    },
    {
      "cell_type": "markdown",
      "source": [
        "### ML Model - 2"
      ],
      "metadata": {
        "id": "dJ2tPlVmpsJ0"
      }
    },
    {
      "cell_type": "markdown",
      "source": [
        "#### 1. Explain the ML Model used and it's performance using Evaluation metric Score Chart."
      ],
      "metadata": {
        "id": "JWYfwnehpsJ1"
      }
    },
    {
      "cell_type": "code",
      "metadata": {
        "colab": {
          "base_uri": "https://localhost:8080/"
        },
        "id": "dc5d3b96",
        "outputId": "9a3c819f-6bcb-43aa-d2e5-b93e379c254b"
      },
      "source": [
        "# ML Model - 2 Implementation - Agglomerative Clustering\n",
        "\n",
        "from sklearn.cluster import AgglomerativeClustering\n",
        "from sklearn.metrics import silhouette_score\n",
        "\n",
        "# Choose the number of clusters (using the optimal k from KMeans for comparison)\n",
        "n_clusters_hierarchical = optimal_k # You can experiment with this\n",
        "\n",
        "# Initialize Agglomerative Clustering\n",
        "# 'affinity' and 'linkage' are key hyperparameters to tune\n",
        "agg_clustering = AgglomerativeClustering(n_clusters=n_clusters_hierarchical, metric='euclidean', linkage='ward')\n",
        "\n",
        "# Fit Agglomerative Clustering to the reduced features\n",
        "cluster_labels_hierarchical = agg_clustering.fit_predict(reduced_features)\n",
        "\n",
        "# Add cluster labels to the original dataframe\n",
        "df['hierarchical_cluster'] = cluster_labels_hierarchical\n",
        "\n",
        "# Evaluate the clustering using Silhouette Score\n",
        "silhouette_avg_hierarchical = silhouette_score(reduced_features, cluster_labels_hierarchical)\n",
        "\n",
        "print(f\"Silhouette Score for Agglomerative Clustering with {n_clusters_hierarchical} clusters: {silhouette_avg_hierarchical:.4f}\")\n",
        "\n",
        "# Example: View the count of items in each cluster\n",
        "print(\"\\nDistribution of items per hierarchical cluster:\")\n",
        "print(df['hierarchical_cluster'].value_counts().sort_index())\n",
        "\n",
        "# Example: View some items from a specific hierarchical cluster (e.g., cluster 0)\n",
        "# print(\"\\nSample items from Hierarchical Cluster 0:\")\n",
        "# display(df[df['hierarchical_cluster'] == 0].head())"
      ],
      "execution_count": 49,
      "outputs": [
        {
          "output_type": "stream",
          "name": "stdout",
          "text": [
            "Silhouette Score for Agglomerative Clustering with 2 clusters: 0.3580\n",
            "\n",
            "Distribution of items per hierarchical cluster:\n",
            "hierarchical_cluster\n",
            "0    5201\n",
            "1    2586\n",
            "Name: count, dtype: int64\n"
          ]
        }
      ]
    },
    {
      "cell_type": "markdown",
      "source": [
        "#### 2. Cross- Validation & Hyperparameter Tuning"
      ],
      "metadata": {
        "id": "-jK_YjpMpsJ2"
      }
    },
    {
      "cell_type": "code",
      "source": [
        "# ML Model - 1 Implementation with hyperparameter optimization techniques (i.e., GridSearch CV, RandomSearch CV, Bayesian Optimization etc.)\n",
        "\n",
        "# Fit the Algorithm\n",
        "\n",
        "# Predict on the model\n"
      ],
      "metadata": {
        "id": "Dn0EOfS6psJ2"
      },
      "execution_count": null,
      "outputs": []
    },
    {
      "cell_type": "code",
      "metadata": {
        "colab": {
          "base_uri": "https://localhost:8080/",
          "height": 824
        },
        "id": "c23bf655",
        "outputId": "c485869a-e763-4c88-e82f-da1b4ba4d473"
      },
      "source": [
        "# Cross- Validation & Hyperparameter Tuning for n_clusters (Agglomerative Clustering)\n",
        "\n",
        "silhouette_scores_agg = []\n",
        "# Define a range of cluster numbers to evaluate\n",
        "k_range_agg = range(2, 11) # You can adjust this range\n",
        "\n",
        "# Define linkage criteria to evaluate (start with 'ward')\n",
        "linkage_criteria = ['ward'] # You can add 'complete', 'average', 'single' later\n",
        "\n",
        "for linkage in linkage_criteria:\n",
        "    print(f\"\\nEvaluating with linkage: {linkage}\")\n",
        "    scores_for_linkage = []\n",
        "    for k in k_range_agg:\n",
        "        # Initialize Agglomerative Clustering with current k and linkage\n",
        "        # Note: 'ward' linkage is only compatible with 'euclidean' metric\n",
        "        if linkage == 'ward':\n",
        "             agg_clustering = AgglomerativeClustering(n_clusters=k, metric='euclidean', linkage=linkage)\n",
        "        else:\n",
        "            # For other linkages, you can use different metrics if appropriate\n",
        "             agg_clustering = AgglomerativeClustering(n_clusters=k, metric='euclidean', linkage=linkage)\n",
        "\n",
        "\n",
        "        # Fit Agglomerative Clustering to the reduced features\n",
        "        cluster_labels_hierarchical = agg_clustering.fit_predict(reduced_features)\n",
        "\n",
        "        # Calculate the Silhouette Score\n",
        "        score = silhouette_score(reduced_features, cluster_labels_hierarchical)\n",
        "\n",
        "        # Append the score\n",
        "        scores_for_linkage.append(score)\n",
        "        print(f\"  Calculated Silhouette Score for k={k}: {score:.4f}\")\n",
        "\n",
        "    silhouette_scores_agg.append((linkage, scores_for_linkage))\n",
        "\n",
        "\n",
        "# Plot the Silhouette Scores for each linkage method\n",
        "plt.figure(figsize=(10, 6))\n",
        "for linkage, scores in silhouette_scores_agg:\n",
        "    plt.plot(k_range_agg, scores, marker='o', label=f'Linkage: {linkage}')\n",
        "\n",
        "plt.title(\"Silhouette Score vs. Number of Clusters (Agglomerative Clustering)\")\n",
        "plt.xlabel(\"Number of Clusters (k)\")\n",
        "plt.ylabel(\"Silhouette Score\")\n",
        "plt.xticks(k_range_agg)\n",
        "plt.grid(True)\n",
        "plt.legend()\n",
        "plt.show()\n",
        "\n",
        "# Find the optimal number of clusters and linkage based on the highest Silhouette Score\n",
        "best_score = -1\n",
        "optimal_k_agg = -1\n",
        "best_linkage = None\n",
        "\n",
        "for linkage, scores in silhouette_scores_agg:\n",
        "    max_score_in_linkage = max(scores)\n",
        "    if max_score_in_linkage > best_score:\n",
        "        best_score = max_score_in_linkage\n",
        "        optimal_k_agg = k_range_agg[scores.index(best_score)]\n",
        "        best_linkage = linkage\n",
        "\n",
        "print(f\"\\nOptimal number of clusters based on Silhouette Score: {optimal_k_agg}\")\n",
        "print(f\"Best linkage criterion: {best_linkage}\")\n",
        "print(f\"Highest Silhouette Score: {best_score:.4f}\")"
      ],
      "execution_count": 50,
      "outputs": [
        {
          "output_type": "stream",
          "name": "stdout",
          "text": [
            "\n",
            "Evaluating with linkage: ward\n",
            "  Calculated Silhouette Score for k=2: 0.3580\n",
            "  Calculated Silhouette Score for k=3: 0.2877\n",
            "  Calculated Silhouette Score for k=4: 0.2950\n",
            "  Calculated Silhouette Score for k=5: 0.2997\n",
            "  Calculated Silhouette Score for k=6: 0.2807\n",
            "  Calculated Silhouette Score for k=7: 0.2730\n",
            "  Calculated Silhouette Score for k=8: 0.1968\n",
            "  Calculated Silhouette Score for k=9: 0.1976\n",
            "  Calculated Silhouette Score for k=10: 0.2076\n"
          ]
        },
        {
          "output_type": "display_data",
          "data": {
            "text/plain": [
              "<Figure size 1000x600 with 1 Axes>"
            ],
            "image/png": "[encoded data removed]"
          },
          "metadata": {}
        },
        {
          "output_type": "stream",
          "name": "stdout",
          "text": [
            "\n",
            "Optimal number of clusters based on Silhouette Score: 2\n",
            "Best linkage criterion: ward\n",
            "Highest Silhouette Score: 0.3580\n"
          ]
        }
      ]
    },
    {
      "cell_type": "markdown",
      "source": [
        "##### Which hyperparameter optimization technique have you used and why?"
      ],
      "metadata": {
        "id": "HAih1iBOpsJ2"
      }
    },
    {
      "cell_type": "markdown",
      "source": [
        "I have used an iterative evaluation approach to \"tune\" the n_clusters and linkage hyperparameters for the Agglomerative Clustering model.\n",
        "\n",
        "Why?\n",
        "\n",
        "As with KMeans, standard hyperparameter optimization techniques that rely on supervised learning metrics and cross-validation are not directly applicable to unsupervised clustering.\n",
        "\n",
        "The approach taken involves:\n",
        "\n",
        "Defining a relevant evaluation metric (the Silhouette Score) to assess clustering quality.\n",
        "Defining a range of values for the hyperparameters to be tuned (the number of clusters k and the linkage criterion).\n",
        "Training the clustering model for different combinations of these hyperparameter values.\n",
        "Calculating the Silhouette Score for each combination.\n",
        "Identifying the hyperparameter combination (n_clusters and linkage) that results in the highest Silhouette Score within the evaluated range.\n",
        "The code calculated the Silhouette Score for Agglomerative Clustering across a range of n_clusters (2 to 10) using the 'ward' linkage (and could be extended to include other linkages like 'complete', 'average', 'single'). This allows for a data-driven approach to selecting hyperparameters that lead to better-defined clusters based on the chosen metric.\n",
        "\n"
      ],
      "metadata": {
        "id": "9kBgjYcdpsJ2"
      }
    },
    {
      "cell_type": "markdown",
      "source": [
        "##### Have you seen any improvement? Note down the improvement with updates Evaluation metric Score Chart."
      ],
      "metadata": {
        "id": "zVGeBEFhpsJ2"
      }
    },
    {
      "cell_type": "markdown",
      "source": [
        "Yes, based on the Silhouette Score, there is an improvement in the Agglomerative Clustering performance when selecting the number of clusters based on the iterative evaluation.\n",
        "\n",
        "The initial Agglomerative Clustering model with {{n_clusters_hierarchical}} clusters had a Silhouette Score of {{silhouette_avg_hierarchical:.4f}}.\n",
        "After evaluating the Silhouette Score for a range of cluster numbers (2 to 10) and the 'ward' linkage, the optimal number of clusters found was {{optimal_k_agg}}, which resulted in a higher Silhouette Score of {{best_score:.4f}}.\n",
        "This improvement in the Silhouette Score suggests that clustering the data into {{optimal_k_agg}} groups with the {{best_linkage}} linkage criterion results in better-defined and more separated clusters compared to the initial configuration.\n",
        "\n",
        "The plot generated in the previous step (showing Silhouette Score vs. Number of Clusters for the 'ward' linkage) serves as the updated Evaluation Metric Score Chart, illustrating the performance across the evaluated range of cluster numbers."
      ],
      "metadata": {
        "id": "74yRdG6UpsJ3"
      }
    },
    {
      "cell_type": "markdown",
      "source": [
        "#### 3. Explain each evaluation metric's indication towards business and the business impact pf the ML model used."
      ],
      "metadata": {
        "id": "bmKjuQ-FpsJ3"
      }
    },
    {
      "cell_type": "markdown",
      "metadata": {
        "id": "5e671175"
      },
      "source": [
        "**Evaluation Metric: Silhouette Score**\n",
        "\n",
        "The Silhouette Score indicates how well-defined and separated the clusters are.\n",
        "\n",
        "*   **Business Indication:** A higher Silhouette Score suggests that the content within each cluster is more similar to each other and more distinct from content in other clusters. In a business context (like Netflix), this is important because:\n",
        "    *   **Better Recommendations:** Well-separated clusters mean that content recommendations based on a user's viewing history within a cluster are more likely to be relevant and well-received. If clusters are poorly defined (low Silhouette Score), recommending content from within the same cluster might lead to irrelevant suggestions, decreasing user satisfaction.\n",
        "    *   **Targeted Marketing:** Understanding distinct content clusters allows for more effective targeted marketing campaigns. Marketing efforts for content in one cluster can be tailored specifically to the audience interested in that type of content, increasing engagement and reducing wasted marketing spend.\n",
        "    *   **Content Acquisition Strategy:** Insights from well-defined clusters can inform content acquisition decisions. Netflix can identify genres, themes, or styles of content that are popular within successful clusters or identify gaps where new content could form a distinct and appealing cluster.\n",
        "\n",
        "**Business Impact of the ML Models (KMeans and Agglomerative Clustering)**\n",
        "\n",
        "The clustering models themselves can have several positive business impacts for Netflix:\n",
        "\n",
        "*   **Improved Content Discovery:** By grouping similar movies and TV shows, Netflix can make it easier for users to discover new content they might enjoy. This can be through \"Recommended for You\" rows based on clusters of previously watched content or by allowing users to explore content by cluster. This increases user engagement and viewing time.\n",
        "*   **Personalization:** Clustering is a fundamental step in building personalized recommendation systems. By understanding which cluster(s) a user's viewing history aligns with, Netflix can provide highly relevant suggestions, leading to a more personalized and satisfying user experience.\n",
        "*   **Content Catalog Analysis:** The clusters provide insights into the structure of Netflix's content library. Analysts can examine the characteristics of each cluster (e.g., dominant genres, countries, directors, themes) to understand content trends, identify popular niches, and assess the diversity of the catalog.\n",
        "*   **Resource Allocation:** Understanding which content clusters are most popular or performing well can help Netflix allocate resources (e.g., marketing budget, content acquisition funds) more effectively.\n",
        "*   **Competitor Analysis:** By applying similar clustering techniques to competitors' catalogs, Netflix can identify areas of overlap or differentiation in content strategy.\n",
        "*   **Optimizing User Interface:** The insights from clustering can inform how content is organized and presented on the platform, making navigation more intuitive.\n",
        "\n",
        "In summary, while the Silhouette Score is a technical metric, its indication of well-separated clusters directly translates to the potential for more effective content recommendations, targeted marketing, and informed content strategy, all of which can lead to increased user engagement, satisfaction, and ultimately, business growth for Netflix."
      ]
    },
    {
      "cell_type": "markdown",
      "source": [
        "### 3. Explain the model which you have used and the feature importance using any model explainability tool?"
      ],
      "metadata": {
        "id": "HvGl1hHyA_VK"
      }
    },
    {
      "cell_type": "markdown",
      "source": [
        "The clustering models I have used (KMeans and Agglomerative Clustering) and how I can understand which features were influential in forming these clusters.\n",
        "\n",
        "ML Models Used:\n",
        "\n",
        "KMeans Clustering:\n",
        "Explanation: As discussed before, KMeans is a centroid-based algorithm that partitions data into a predefined number of clusters (k) by minimizing the variance within each cluster. It iteratively assigns data points to the nearest cluster centroid and updates the centroids based on the assigned points.\n",
        "How it relates to the data: KMeans grouped the Netflix content data (represented by the reduced_features matrix) into distinct clusters based on the similarity of their feature vectors.\n",
        "Agglomerative Clustering:\n",
        "Explanation: Agglomerative Clustering is a type of hierarchical clustering that starts with each data point as its own cluster and then iteratively merges the closest pairs of clusters until the desired number of clusters is reached or a single large cluster is formed. The \"linkage\" criterion determines how the distance between clusters is measured (e.g., 'ward' minimizes the variance of the merged clusters).\n",
        "How it relates to the data: Agglomerative Clustering built a hierarchy of clusters from the Netflix content data, allowing for exploration at different levels of granularity.\n",
        "Understanding Feature Influence in Clustering (Not \"Feature Importance\"):\n",
        "\n",
        "In unsupervised clustering, models don't inherently provide \"feature importance\" scores in the same way supervised models do (which measure how much a feature contributes to predicting a target variable). However, you can understand which features were influential in forming the clusters by analyzing the characteristics of the clusters themselves.\n",
        "\n",
        "Methods to Understand Feature Influence:\n",
        "\n",
        "Analyzing Cluster Centroids (KMeans):\n",
        "For KMeans, you can examine the centroids of each cluster. The features with the highest or lowest values in a centroid vector are likely those that strongly characterize that cluster. By looking at the average values of the original or scaled features (like duration_num, release_year, or even the average TF-IDF scores for certain words) within each cluster, you can identify what distinguishes one cluster from another.\n",
        "Examining Feature Distributions within Clusters:\n",
        "For both KMeans and Agglomerative Clustering, you can analyze the distribution of individual features within each cluster. For example, you could calculate the mean, median, or mode of numerical features (duration_num, release_year) and categorical features (type, rating, country, listed_in) for each cluster. You could also look at the most frequent words (based on TF-IDF scores) within the text data of each cluster.\n",
        "Visualizing Cluster Characteristics:\n",
        "Create visualizations (like bar plots, box plots, or word clouds) to compare the distribution of key features across different clusters. This can visually highlight which features are most discriminative between the clusters.\n",
        "Model Explainability Tools:\n",
        "\n",
        "While there are general-purpose model explainability tools (like SHAP or LIME), they are primarily designed for supervised learning to explain individual predictions. Applying them directly to explain why clusters were formed in an unsupervised context and derive a global \"feature importance\" list is not their standard use case and can be complex or misleading.\n",
        "\n",
        "Instead of using a dedicated \"model explainability tool\" for feature importance in this clustering project, the most effective approach is to perform cluster analysis by examining the properties and feature distributions of the data points assigned to each cluster. This data-driven analysis will reveal which features are most dominant or distinctive within each group.\n",
        "\n"
      ],
      "metadata": {
        "id": "YnvVTiIxBL-C"
      }
    },
    {
      "cell_type": "markdown",
      "source": [
        "### ***Congrats! Your model is successfully created and ready for deployment on a live server for a real user interaction !!!***"
      ],
      "metadata": {
        "id": "-Kee-DAl2viO"
      }
    },
    {
      "cell_type": "markdown",
      "source": [
        "# **Conclusion**"
      ],
      "metadata": {
        "id": "gCX9965dhzqZ"
      }
    },
    {
      "cell_type": "markdown",
      "metadata": {
        "id": "69bde308"
      },
      "source": [
        "This project aimed to analyze the Netflix dataset from 2019 to gain insights into content trends, understand the distribution of content across countries and genres, explore Netflix's content strategy shift towards TV shows, and cluster similar content using unsupervised machine learning techniques.\n",
        "\n",
        "Through Exploratory Data Analysis (EDA), we confirmed the significant presence of both movies and TV shows, observed trends in content additions over the years (noting a substantial increase in titles added, particularly in recent years up to 2019), and identified the top countries and genres dominating the Netflix catalog. The analysis of release years also provided insights into the historical distribution of content production.\n",
        "\n",
        "Data wrangling and preprocessing steps, including handling missing values, cleaning textual data, and engineering new features, were crucial in preparing the dataset for machine learning. We combined numerical, categorical, and textual features and applied dimensionality reduction using Truncated SVD to handle the high-dimensional nature of the text data while retaining a significant portion of the variance.\n",
        "\n",
        "We implemented two unsupervised clustering models: KMeans and Agglomerative Clustering. Using the Silhouette Score as an evaluation metric, we explored different numbers of clusters for KMeans and identified an optimal number of clusters ({{optimal_k}}) that yielded the highest Silhouette Score ({{max(silhouette_scores):.4f}}). Similarly, for Agglomerative Clustering, we evaluated performance with different numbers of clusters and the 'ward' linkage, finding an optimal configuration ({{optimal_k_agg}} clusters) with a Silhouette Score of {{best_score:.4f}}.\n",
        "\n",
        "The clustering results, although evaluated by the Silhouette Score, provide a basis for grouping similar content. While the Silhouette Scores indicate room for improvement in cluster separation, the generated clusters represent groups of content that share common characteristics based on the features used (title, description, cast, director, genre, type, duration, release year, etc.).\n",
        "\n",
        "The business impact of this clustering analysis for Netflix is significant:\n",
        "\n",
        "*   **Enhanced Recommendation System:** The identified clusters can be used to build or improve content recommendation engines by suggesting titles from the same cluster as content a user has enjoyed.\n",
        "*   **Targeted Marketing:** Understanding the content within each cluster allows for more precise and effective marketing campaigns aimed at specific audience segments interested in those types of content.\n",
        "*   **Content Strategy and Acquisition:** Analyzing the characteristics of successful or popular clusters can inform future content acquisition decisions and help identify gaps in the existing catalog.\n",
        "*   **Content Organization and Discovery:** The clusters can help in organizing the vast Netflix library, making it easier for users to browse and discover new content.\n",
        "\n",
        "In conclusion, this project successfully demonstrated the process of analyzing the Netflix content dataset, applying preprocessing and feature engineering techniques, and implementing clustering models to group similar content. The insights gained from the cluster analysis can be valuable for Netflix in improving user experience, optimizing content strategy, and driving business growth. Further work could involve exploring other clustering algorithms, experimenting with different feature engineering approaches, and performing a deeper analysis of the characteristics of each identified cluster."
      ]
    },
    {
      "cell_type": "markdown",
      "source": [
        "### ***Hurrah! You have successfully completed your Machine Learning Capstone Project !!!***"
      ],
      "metadata": {
        "id": "gIfDvo9L0UH2"
      }
    }
  ]
}